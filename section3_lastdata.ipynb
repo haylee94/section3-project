{
  "nbformat": 4,
  "nbformat_minor": 0,
  "metadata": {
    "colab": {
      "provenance": [],
      "collapsed_sections": [],
      "mount_file_id": "1XjiItFi6WTpV5OO5DSu9Z_RzboWvx7se",
      "authorship_tag": "ABX9TyMMMgPuK4MaTSni4HWn2GLX",
      "include_colab_link": true
    },
    "kernelspec": {
      "name": "python3",
      "display_name": "Python 3"
    },
    "language_info": {
      "name": "python"
    }
  },
  "cells": [
    {
      "cell_type": "markdown",
      "metadata": {
        "id": "view-in-github",
        "colab_type": "text"
      },
      "source": [
        "<a href=\"https://colab.research.google.com/github/haylee94/section3-project/blob/main/section3_lastdata.ipynb\" target=\"_parent\"><img src=\"https://colab.research.google.com/assets/colab-badge.svg\" alt=\"Open In Colab\"/></a>"
      ]
    },
    {
      "cell_type": "code",
      "execution_count": 1,
      "metadata": {
        "id": "iZ3CESJIKn3z"
      },
      "outputs": [],
      "source": [
        "import pandas as pd\n",
        "import numpy as np"
      ]
    },
    {
      "cell_type": "code",
      "source": [
        "from google.colab import drive\n",
        "drive.mount('/content/drive')"
      ],
      "metadata": {
        "colab": {
          "base_uri": "https://localhost:8080/"
        },
        "id": "5ND6IZlCMlhl",
        "outputId": "f816af89-5dc6-40ed-d710-4ba274f84e93"
      },
      "execution_count": 2,
      "outputs": [
        {
          "output_type": "stream",
          "name": "stdout",
          "text": [
            "Mounted at /content/drive\n"
          ]
        }
      ]
    },
    {
      "cell_type": "code",
      "source": [
        "myfile = '/content/drive/MyDrive/Row_암보험_보장지수.xlsx'\n",
        "df = pd.read_excel(myfile)\n",
        "df.head(1)"
      ],
      "metadata": {
        "colab": {
          "base_uri": "https://localhost:8080/",
          "height": 258
        },
        "id": "LOPMOLyqQ1Da",
        "outputId": "7fa50ab4-8022-4f14-dd9e-482b5300611c"
      },
      "execution_count": 3,
      "outputs": [
        {
          "output_type": "execute_result",
          "data": {
            "text/plain": [
              "     기준년월    고객생년월일 성별코드  일반암진단비보장항목수  일반암진단비보장금액  갑상선암진단비보장항목수  갑상선암진단비보장금액  \\\n",
              "0  202109  1981****    M            1    20000000             0            0   \n",
              "\n",
              "   경계성종양진단비보장항목수  경계성종양진단비보장금액  제자리암진단비보장항목수  ...  계약상태명    계약시작일자    계약종료일자  \\\n",
              "0              0             0             0  ...     정상  20061012  20601012   \n",
              "\n",
              "   보장순번  보장항목값  보장항목명   내부보장항목명                                   보장분류결과값  \\\n",
              "0     0  A4200    암진단  암진단보험금합산  암진단비,고액암진단비,유방암진단비,자궁암진단비,전립선암진단비,방광암진단비   \n",
              "\n",
              "   보장항목상태명      보장금액  \n",
              "0       정상  20000000  \n",
              "\n",
              "[1 rows x 36 columns]"
            ],
            "text/html": [
              "\n",
              "  <div id=\"df-b17bc5e5-3259-45cf-a8a6-f92de1d97239\">\n",
              "    <div class=\"colab-df-container\">\n",
              "      <div>\n",
              "<style scoped>\n",
              "    .dataframe tbody tr th:only-of-type {\n",
              "        vertical-align: middle;\n",
              "    }\n",
              "\n",
              "    .dataframe tbody tr th {\n",
              "        vertical-align: top;\n",
              "    }\n",
              "\n",
              "    .dataframe thead th {\n",
              "        text-align: right;\n",
              "    }\n",
              "</style>\n",
              "<table border=\"1\" class=\"dataframe\">\n",
              "  <thead>\n",
              "    <tr style=\"text-align: right;\">\n",
              "      <th></th>\n",
              "      <th>기준년월</th>\n",
              "      <th>고객생년월일</th>\n",
              "      <th>성별코드</th>\n",
              "      <th>일반암진단비보장항목수</th>\n",
              "      <th>일반암진단비보장금액</th>\n",
              "      <th>갑상선암진단비보장항목수</th>\n",
              "      <th>갑상선암진단비보장금액</th>\n",
              "      <th>경계성종양진단비보장항목수</th>\n",
              "      <th>경계성종양진단비보장금액</th>\n",
              "      <th>제자리암진단비보장항목수</th>\n",
              "      <th>...</th>\n",
              "      <th>계약상태명</th>\n",
              "      <th>계약시작일자</th>\n",
              "      <th>계약종료일자</th>\n",
              "      <th>보장순번</th>\n",
              "      <th>보장항목값</th>\n",
              "      <th>보장항목명</th>\n",
              "      <th>내부보장항목명</th>\n",
              "      <th>보장분류결과값</th>\n",
              "      <th>보장항목상태명</th>\n",
              "      <th>보장금액</th>\n",
              "    </tr>\n",
              "  </thead>\n",
              "  <tbody>\n",
              "    <tr>\n",
              "      <th>0</th>\n",
              "      <td>202109</td>\n",
              "      <td>1981****</td>\n",
              "      <td>M</td>\n",
              "      <td>1</td>\n",
              "      <td>20000000</td>\n",
              "      <td>0</td>\n",
              "      <td>0</td>\n",
              "      <td>0</td>\n",
              "      <td>0</td>\n",
              "      <td>0</td>\n",
              "      <td>...</td>\n",
              "      <td>정상</td>\n",
              "      <td>20061012</td>\n",
              "      <td>20601012</td>\n",
              "      <td>0</td>\n",
              "      <td>A4200</td>\n",
              "      <td>암진단</td>\n",
              "      <td>암진단보험금합산</td>\n",
              "      <td>암진단비,고액암진단비,유방암진단비,자궁암진단비,전립선암진단비,방광암진단비</td>\n",
              "      <td>정상</td>\n",
              "      <td>20000000</td>\n",
              "    </tr>\n",
              "  </tbody>\n",
              "</table>\n",
              "<p>1 rows × 36 columns</p>\n",
              "</div>\n",
              "      <button class=\"colab-df-convert\" onclick=\"convertToInteractive('df-b17bc5e5-3259-45cf-a8a6-f92de1d97239')\"\n",
              "              title=\"Convert this dataframe to an interactive table.\"\n",
              "              style=\"display:none;\">\n",
              "        \n",
              "  <svg xmlns=\"http://www.w3.org/2000/svg\" height=\"24px\"viewBox=\"0 0 24 24\"\n",
              "       width=\"24px\">\n",
              "    <path d=\"M0 0h24v24H0V0z\" fill=\"none\"/>\n",
              "    <path d=\"M18.56 5.44l.94 2.06.94-2.06 2.06-.94-2.06-.94-.94-2.06-.94 2.06-2.06.94zm-11 1L8.5 8.5l.94-2.06 2.06-.94-2.06-.94L8.5 2.5l-.94 2.06-2.06.94zm10 10l.94 2.06.94-2.06 2.06-.94-2.06-.94-.94-2.06-.94 2.06-2.06.94z\"/><path d=\"M17.41 7.96l-1.37-1.37c-.4-.4-.92-.59-1.43-.59-.52 0-1.04.2-1.43.59L10.3 9.45l-7.72 7.72c-.78.78-.78 2.05 0 2.83L4 21.41c.39.39.9.59 1.41.59.51 0 1.02-.2 1.41-.59l7.78-7.78 2.81-2.81c.8-.78.8-2.07 0-2.86zM5.41 20L4 18.59l7.72-7.72 1.47 1.35L5.41 20z\"/>\n",
              "  </svg>\n",
              "      </button>\n",
              "      \n",
              "  <style>\n",
              "    .colab-df-container {\n",
              "      display:flex;\n",
              "      flex-wrap:wrap;\n",
              "      gap: 12px;\n",
              "    }\n",
              "\n",
              "    .colab-df-convert {\n",
              "      background-color: #E8F0FE;\n",
              "      border: none;\n",
              "      border-radius: 50%;\n",
              "      cursor: pointer;\n",
              "      display: none;\n",
              "      fill: #1967D2;\n",
              "      height: 32px;\n",
              "      padding: 0 0 0 0;\n",
              "      width: 32px;\n",
              "    }\n",
              "\n",
              "    .colab-df-convert:hover {\n",
              "      background-color: #E2EBFA;\n",
              "      box-shadow: 0px 1px 2px rgba(60, 64, 67, 0.3), 0px 1px 3px 1px rgba(60, 64, 67, 0.15);\n",
              "      fill: #174EA6;\n",
              "    }\n",
              "\n",
              "    [theme=dark] .colab-df-convert {\n",
              "      background-color: #3B4455;\n",
              "      fill: #D2E3FC;\n",
              "    }\n",
              "\n",
              "    [theme=dark] .colab-df-convert:hover {\n",
              "      background-color: #434B5C;\n",
              "      box-shadow: 0px 1px 3px 1px rgba(0, 0, 0, 0.15);\n",
              "      filter: drop-shadow(0px 1px 2px rgba(0, 0, 0, 0.3));\n",
              "      fill: #FFFFFF;\n",
              "    }\n",
              "  </style>\n",
              "\n",
              "      <script>\n",
              "        const buttonEl =\n",
              "          document.querySelector('#df-b17bc5e5-3259-45cf-a8a6-f92de1d97239 button.colab-df-convert');\n",
              "        buttonEl.style.display =\n",
              "          google.colab.kernel.accessAllowed ? 'block' : 'none';\n",
              "\n",
              "        async function convertToInteractive(key) {\n",
              "          const element = document.querySelector('#df-b17bc5e5-3259-45cf-a8a6-f92de1d97239');\n",
              "          const dataTable =\n",
              "            await google.colab.kernel.invokeFunction('convertToInteractive',\n",
              "                                                     [key], {});\n",
              "          if (!dataTable) return;\n",
              "\n",
              "          const docLinkHtml = 'Like what you see? Visit the ' +\n",
              "            '<a target=\"_blank\" href=https://colab.research.google.com/notebooks/data_table.ipynb>data table notebook</a>'\n",
              "            + ' to learn more about interactive tables.';\n",
              "          element.innerHTML = '';\n",
              "          dataTable['output_type'] = 'display_data';\n",
              "          await google.colab.output.renderOutput(dataTable, element);\n",
              "          const docLink = document.createElement('div');\n",
              "          docLink.innerHTML = docLinkHtml;\n",
              "          element.appendChild(docLink);\n",
              "        }\n",
              "      </script>\n",
              "    </div>\n",
              "  </div>\n",
              "  "
            ]
          },
          "metadata": {},
          "execution_count": 3
        }
      ]
    },
    {
      "cell_type": "code",
      "source": [
        "df.columns"
      ],
      "metadata": {
        "colab": {
          "base_uri": "https://localhost:8080/"
        },
        "id": "6-3jjPiV7jGK",
        "outputId": "68eebea4-3b9e-411c-fceb-d1bcf6b65f6b"
      },
      "execution_count": 4,
      "outputs": [
        {
          "output_type": "execute_result",
          "data": {
            "text/plain": [
              "Index(['기준년월', '고객생년월일', '성별코드', '일반암진단비보장항목수', '일반암진단비보장금액', '갑상선암진단비보장항목수',\n",
              "       '갑상선암진단비보장금액', '경계성종양진단비보장항목수', '경계성종양진단비보장금액', '제자리암진단비보장항목수',\n",
              "       '제자리암진단비보장금액', '기타피부암진단비보장항목수', '기타피부암진단비보장금액', '유방암진단비보장항목수',\n",
              "       '유방암진단비보장금액', '전립선암진단비보장항목수', '전립선암진단비보장금액', '자궁암진단비보장항목수',\n",
              "       '자궁암진단비보장금액', '방광암진단비보장항목수', '방광암진단비보장금액', '보험계약번호', '보험회사값', '보험회사명',\n",
              "       '보험상품값', '보험상품명', '계약상태명', '계약시작일자', '계약종료일자', '보장순번', '보장항목값', '보장항목명',\n",
              "       '내부보장항목명', '보장분류결과값', '보장항목상태명', '보장금액'],\n",
              "      dtype='object')"
            ]
          },
          "metadata": {},
          "execution_count": 4
        }
      ]
    },
    {
      "cell_type": "code",
      "source": [
        "df = df.drop(['보험계약번호', '보험회사값', '보험상품값', '계약시작일자', '계약종료일자', '보장순번', '보장항목값', '보장항목명','내부보장항목명', '보장분류결과값', '보장항목상태명','보장금액',\n",
        "              '일반암진단비보장항목수', '갑상선암진단비보장항목수','경계성종양진단비보장항목수', '제자리암진단비보장항목수','기타피부암진단비보장항목수', '유방암진단비보장항목수',\n",
        "              '전립선암진단비보장항목수','자궁암진단비보장항목수', '방광암진단비보장항목수'], axis=1)\n",
        "df.columns"
      ],
      "metadata": {
        "colab": {
          "base_uri": "https://localhost:8080/"
        },
        "id": "VbJmq_Ar8d-p",
        "outputId": "1434e2f2-41e2-45a1-912e-9883124f0dd4"
      },
      "execution_count": 6,
      "outputs": [
        {
          "output_type": "execute_result",
          "data": {
            "text/plain": [
              "Index(['기준년월', '고객생년월일', '성별코드', '일반암진단비보장금액', '갑상선암진단비보장금액', '경계성종양진단비보장금액',\n",
              "       '제자리암진단비보장금액', '기타피부암진단비보장금액', '유방암진단비보장금액', '전립선암진단비보장금액',\n",
              "       '자궁암진단비보장금액', '방광암진단비보장금액', '보험회사명', '보험상품명', '계약상태명'],\n",
              "      dtype='object')"
            ]
          },
          "metadata": {},
          "execution_count": 6
        }
      ]
    },
    {
      "cell_type": "code",
      "source": [
        "df = df[df['계약상태명']!='정상(심사중)']"
      ],
      "metadata": {
        "id": "A3JPbiL5LwqG"
      },
      "execution_count": 5,
      "outputs": []
    },
    {
      "cell_type": "code",
      "source": [
        "df = df.astype({'기준년월':'str'})\n",
        "df[\"기준연도\"] = df[\"기준년월\"].str[0:4]\n",
        "df['고객생일연도'] = df['고객생년월일'].str.extract(r'(\\d+)')"
      ],
      "metadata": {
        "id": "7pW_qwO1XKOF"
      },
      "execution_count": 7,
      "outputs": []
    },
    {
      "cell_type": "code",
      "source": [
        "df.info()"
      ],
      "metadata": {
        "colab": {
          "base_uri": "https://localhost:8080/"
        },
        "id": "brQtqkX9Xx93",
        "outputId": "bbd4b43a-e146-4080-e588-1b3920ea3b41"
      },
      "execution_count": 8,
      "outputs": [
        {
          "output_type": "stream",
          "name": "stdout",
          "text": [
            "<class 'pandas.core.frame.DataFrame'>\n",
            "Int64Index: 81356 entries, 0 to 81860\n",
            "Data columns (total 17 columns):\n",
            " #   Column        Non-Null Count  Dtype \n",
            "---  ------        --------------  ----- \n",
            " 0   기준년월          81356 non-null  object\n",
            " 1   고객생년월일        81356 non-null  object\n",
            " 2   성별코드          81356 non-null  object\n",
            " 3   일반암진단비보장금액    81356 non-null  int64 \n",
            " 4   갑상선암진단비보장금액   81356 non-null  int64 \n",
            " 5   경계성종양진단비보장금액  81356 non-null  int64 \n",
            " 6   제자리암진단비보장금액   81356 non-null  int64 \n",
            " 7   기타피부암진단비보장금액  81356 non-null  int64 \n",
            " 8   유방암진단비보장금액    81356 non-null  int64 \n",
            " 9   전립선암진단비보장금액   81356 non-null  int64 \n",
            " 10  자궁암진단비보장금액    81356 non-null  int64 \n",
            " 11  방광암진단비보장금액    81356 non-null  int64 \n",
            " 12  보험회사명         81356 non-null  object\n",
            " 13  보험상품명         81356 non-null  object\n",
            " 14  계약상태명         81356 non-null  object\n",
            " 15  기준연도          81356 non-null  object\n",
            " 16  고객생일연도        81356 non-null  object\n",
            "dtypes: int64(9), object(8)\n",
            "memory usage: 11.2+ MB\n"
          ]
        }
      ]
    },
    {
      "cell_type": "code",
      "source": [
        "df = df.astype({'고객생일연도':'int'})\n",
        "df = df.astype({'기준연도':'int'})\n",
        "df['나이'] = df['기준연도'] - df['고객생일연도']"
      ],
      "metadata": {
        "id": "e5xdSliOX39e"
      },
      "execution_count": 9,
      "outputs": []
    },
    {
      "cell_type": "code",
      "source": [
        "df = df.drop(['계약상태명','기준년월','고객생년월일', '기준연도', '고객생일연도'], axis=1)"
      ],
      "metadata": {
        "id": "lrMvi9V8YCIz"
      },
      "execution_count": 10,
      "outputs": []
    },
    {
      "cell_type": "code",
      "source": [
        "df = df[['나이', '성별코드', '일반암진단비보장금액', '갑상선암진단비보장금액', '경계성종양진단비보장금액', '제자리암진단비보장금액', '기타피부암진단비보장금액',\n",
        "         '유방암진단비보장금액', '전립선암진단비보장금액', '자궁암진단비보장금액', '방광암진단비보장금액', '보험회사명', '보험상품명']]\n",
        "df.sample(2)"
      ],
      "metadata": {
        "colab": {
          "base_uri": "https://localhost:8080/",
          "height": 208
        },
        "id": "53NN6_M3YaHt",
        "outputId": "1e24d660-2001-41bf-eb1f-8ff6279efddc"
      },
      "execution_count": 11,
      "outputs": [
        {
          "output_type": "execute_result",
          "data": {
            "text/plain": [
              "       나이 성별코드  일반암진단비보장금액  갑상선암진단비보장금액  경계성종양진단비보장금액  제자리암진단비보장금액  \\\n",
              "65146  55    M    30000000     30000000      30000000     30000000   \n",
              "18188  28    M    70000000      6000000       6000000      6000000   \n",
              "\n",
              "       기타피부암진단비보장금액  유방암진단비보장금액  전립선암진단비보장금액  자궁암진단비보장금액  방광암진단비보장금액   보험회사명  \\\n",
              "65146      30000000    30000000     30000000    30000000    10000000  한화생명보험   \n",
              "18188       6000000    70000000     70000000    70000000    70000000  삼성생명보험   \n",
              "\n",
              "                               보험상품명  \n",
              "65146  한화생명 100세보장 건강보험 무배당(2종)(일반형)  \n",
              "18188               無퓨처30+퍼펙트통합보장Ⅰ표준  "
            ],
            "text/html": [
              "\n",
              "  <div id=\"df-04604f40-56a3-4524-9aea-06107ab16625\">\n",
              "    <div class=\"colab-df-container\">\n",
              "      <div>\n",
              "<style scoped>\n",
              "    .dataframe tbody tr th:only-of-type {\n",
              "        vertical-align: middle;\n",
              "    }\n",
              "\n",
              "    .dataframe tbody tr th {\n",
              "        vertical-align: top;\n",
              "    }\n",
              "\n",
              "    .dataframe thead th {\n",
              "        text-align: right;\n",
              "    }\n",
              "</style>\n",
              "<table border=\"1\" class=\"dataframe\">\n",
              "  <thead>\n",
              "    <tr style=\"text-align: right;\">\n",
              "      <th></th>\n",
              "      <th>나이</th>\n",
              "      <th>성별코드</th>\n",
              "      <th>일반암진단비보장금액</th>\n",
              "      <th>갑상선암진단비보장금액</th>\n",
              "      <th>경계성종양진단비보장금액</th>\n",
              "      <th>제자리암진단비보장금액</th>\n",
              "      <th>기타피부암진단비보장금액</th>\n",
              "      <th>유방암진단비보장금액</th>\n",
              "      <th>전립선암진단비보장금액</th>\n",
              "      <th>자궁암진단비보장금액</th>\n",
              "      <th>방광암진단비보장금액</th>\n",
              "      <th>보험회사명</th>\n",
              "      <th>보험상품명</th>\n",
              "    </tr>\n",
              "  </thead>\n",
              "  <tbody>\n",
              "    <tr>\n",
              "      <th>65146</th>\n",
              "      <td>55</td>\n",
              "      <td>M</td>\n",
              "      <td>30000000</td>\n",
              "      <td>30000000</td>\n",
              "      <td>30000000</td>\n",
              "      <td>30000000</td>\n",
              "      <td>30000000</td>\n",
              "      <td>30000000</td>\n",
              "      <td>30000000</td>\n",
              "      <td>30000000</td>\n",
              "      <td>10000000</td>\n",
              "      <td>한화생명보험</td>\n",
              "      <td>한화생명 100세보장 건강보험 무배당(2종)(일반형)</td>\n",
              "    </tr>\n",
              "    <tr>\n",
              "      <th>18188</th>\n",
              "      <td>28</td>\n",
              "      <td>M</td>\n",
              "      <td>70000000</td>\n",
              "      <td>6000000</td>\n",
              "      <td>6000000</td>\n",
              "      <td>6000000</td>\n",
              "      <td>6000000</td>\n",
              "      <td>70000000</td>\n",
              "      <td>70000000</td>\n",
              "      <td>70000000</td>\n",
              "      <td>70000000</td>\n",
              "      <td>삼성생명보험</td>\n",
              "      <td>無퓨처30+퍼펙트통합보장Ⅰ표준</td>\n",
              "    </tr>\n",
              "  </tbody>\n",
              "</table>\n",
              "</div>\n",
              "      <button class=\"colab-df-convert\" onclick=\"convertToInteractive('df-04604f40-56a3-4524-9aea-06107ab16625')\"\n",
              "              title=\"Convert this dataframe to an interactive table.\"\n",
              "              style=\"display:none;\">\n",
              "        \n",
              "  <svg xmlns=\"http://www.w3.org/2000/svg\" height=\"24px\"viewBox=\"0 0 24 24\"\n",
              "       width=\"24px\">\n",
              "    <path d=\"M0 0h24v24H0V0z\" fill=\"none\"/>\n",
              "    <path d=\"M18.56 5.44l.94 2.06.94-2.06 2.06-.94-2.06-.94-.94-2.06-.94 2.06-2.06.94zm-11 1L8.5 8.5l.94-2.06 2.06-.94-2.06-.94L8.5 2.5l-.94 2.06-2.06.94zm10 10l.94 2.06.94-2.06 2.06-.94-2.06-.94-.94-2.06-.94 2.06-2.06.94z\"/><path d=\"M17.41 7.96l-1.37-1.37c-.4-.4-.92-.59-1.43-.59-.52 0-1.04.2-1.43.59L10.3 9.45l-7.72 7.72c-.78.78-.78 2.05 0 2.83L4 21.41c.39.39.9.59 1.41.59.51 0 1.02-.2 1.41-.59l7.78-7.78 2.81-2.81c.8-.78.8-2.07 0-2.86zM5.41 20L4 18.59l7.72-7.72 1.47 1.35L5.41 20z\"/>\n",
              "  </svg>\n",
              "      </button>\n",
              "      \n",
              "  <style>\n",
              "    .colab-df-container {\n",
              "      display:flex;\n",
              "      flex-wrap:wrap;\n",
              "      gap: 12px;\n",
              "    }\n",
              "\n",
              "    .colab-df-convert {\n",
              "      background-color: #E8F0FE;\n",
              "      border: none;\n",
              "      border-radius: 50%;\n",
              "      cursor: pointer;\n",
              "      display: none;\n",
              "      fill: #1967D2;\n",
              "      height: 32px;\n",
              "      padding: 0 0 0 0;\n",
              "      width: 32px;\n",
              "    }\n",
              "\n",
              "    .colab-df-convert:hover {\n",
              "      background-color: #E2EBFA;\n",
              "      box-shadow: 0px 1px 2px rgba(60, 64, 67, 0.3), 0px 1px 3px 1px rgba(60, 64, 67, 0.15);\n",
              "      fill: #174EA6;\n",
              "    }\n",
              "\n",
              "    [theme=dark] .colab-df-convert {\n",
              "      background-color: #3B4455;\n",
              "      fill: #D2E3FC;\n",
              "    }\n",
              "\n",
              "    [theme=dark] .colab-df-convert:hover {\n",
              "      background-color: #434B5C;\n",
              "      box-shadow: 0px 1px 3px 1px rgba(0, 0, 0, 0.15);\n",
              "      filter: drop-shadow(0px 1px 2px rgba(0, 0, 0, 0.3));\n",
              "      fill: #FFFFFF;\n",
              "    }\n",
              "  </style>\n",
              "\n",
              "      <script>\n",
              "        const buttonEl =\n",
              "          document.querySelector('#df-04604f40-56a3-4524-9aea-06107ab16625 button.colab-df-convert');\n",
              "        buttonEl.style.display =\n",
              "          google.colab.kernel.accessAllowed ? 'block' : 'none';\n",
              "\n",
              "        async function convertToInteractive(key) {\n",
              "          const element = document.querySelector('#df-04604f40-56a3-4524-9aea-06107ab16625');\n",
              "          const dataTable =\n",
              "            await google.colab.kernel.invokeFunction('convertToInteractive',\n",
              "                                                     [key], {});\n",
              "          if (!dataTable) return;\n",
              "\n",
              "          const docLinkHtml = 'Like what you see? Visit the ' +\n",
              "            '<a target=\"_blank\" href=https://colab.research.google.com/notebooks/data_table.ipynb>data table notebook</a>'\n",
              "            + ' to learn more about interactive tables.';\n",
              "          element.innerHTML = '';\n",
              "          dataTable['output_type'] = 'display_data';\n",
              "          await google.colab.output.renderOutput(dataTable, element);\n",
              "          const docLink = document.createElement('div');\n",
              "          docLink.innerHTML = docLinkHtml;\n",
              "          element.appendChild(docLink);\n",
              "        }\n",
              "      </script>\n",
              "    </div>\n",
              "  </div>\n",
              "  "
            ]
          },
          "metadata": {},
          "execution_count": 11
        }
      ]
    },
    {
      "cell_type": "code",
      "source": [
        "df.rename(columns={'일반암진단비보장금액':'일반암진단비'}, inplace=True)\n",
        "df.rename(columns={'갑상선암진단비보장금액':'갑상선암진단비'}, inplace=True)\n",
        "df.rename(columns={'경계성종양진단비보장금액':'경계성종양진단비'}, inplace=True)\n",
        "df.rename(columns={'제자리암진단비보장금액':'제자리암진단비'}, inplace=True)\n",
        "df.rename(columns={'기타피부암진단비보장금액':'기타피부암진단비'}, inplace=True)\n",
        "df.rename(columns={'유방암진단비보장금액':'유방암진단비'}, inplace=True)\n",
        "df.rename(columns={'전립선암진단비보장금액':'전립선암진단비'}, inplace=True)\n",
        "df.rename(columns={'자궁암진단비보장금액':'자궁암진단비'}, inplace=True)\n",
        "df.rename(columns={'방광암진단비보장금액':'방광암진단비'}, inplace=True)"
      ],
      "metadata": {
        "id": "YQAWN3IZixG8"
      },
      "execution_count": 12,
      "outputs": []
    },
    {
      "cell_type": "code",
      "source": [
        "df = pd.melt(df,id_vars=['나이','성별코드','보험회사명','보험상품명'],\n",
        "             value_vars=['일반암진단비','갑상선암진단비','경계성종양진단비','제자리암진단비','기타피부암진단비','유방암진단비','전립선암진단비','자궁암진단비','방광암진단비'],\n",
        "             var_name='담보',value_name='가입금액')\n",
        "\n",
        "# melt(id_vars='',value_vars='') id_vars->기준이되는 컬럼지정 / value_vars->녹여서 값과 같이 행으로 들어갈 컬럼\n",
        "# melt 파라미터에 컬럼명 변경 기능이 있다(index 별도설정 안해도 됨) / var_name='', value_name=''\n",
        "# melt 시킬 컬럼을 제외하고 나머지가 기준이 된다. (id_vars->기준이되는 컬럼지정)"
      ],
      "metadata": {
        "id": "F-pPGIFDhsmA"
      },
      "execution_count": 13,
      "outputs": []
    },
    {
      "cell_type": "code",
      "source": [
        "df.sample(2)"
      ],
      "metadata": {
        "colab": {
          "base_uri": "https://localhost:8080/",
          "height": 112
        },
        "id": "6QUxiyM7kvbn",
        "outputId": "4eb63379-ac67-488f-f702-54a291c09a46"
      },
      "execution_count": 14,
      "outputs": [
        {
          "output_type": "execute_result",
          "data": {
            "text/plain": [
              "        나이 성별코드      보험회사명             보험상품명       담보       가입금액\n",
              "9830    43    F    AIA생명보험      （무）프라임평생설계２형   일반암진단비   71000000\n",
              "496807  32    F  메트라이프생명보험  무배당 360 암보험(갱신형)  전립선암진단비  253278000"
            ],
            "text/html": [
              "\n",
              "  <div id=\"df-45bf72f9-6b50-4af1-afb7-f8310158acfe\">\n",
              "    <div class=\"colab-df-container\">\n",
              "      <div>\n",
              "<style scoped>\n",
              "    .dataframe tbody tr th:only-of-type {\n",
              "        vertical-align: middle;\n",
              "    }\n",
              "\n",
              "    .dataframe tbody tr th {\n",
              "        vertical-align: top;\n",
              "    }\n",
              "\n",
              "    .dataframe thead th {\n",
              "        text-align: right;\n",
              "    }\n",
              "</style>\n",
              "<table border=\"1\" class=\"dataframe\">\n",
              "  <thead>\n",
              "    <tr style=\"text-align: right;\">\n",
              "      <th></th>\n",
              "      <th>나이</th>\n",
              "      <th>성별코드</th>\n",
              "      <th>보험회사명</th>\n",
              "      <th>보험상품명</th>\n",
              "      <th>담보</th>\n",
              "      <th>가입금액</th>\n",
              "    </tr>\n",
              "  </thead>\n",
              "  <tbody>\n",
              "    <tr>\n",
              "      <th>9830</th>\n",
              "      <td>43</td>\n",
              "      <td>F</td>\n",
              "      <td>AIA생명보험</td>\n",
              "      <td>（무）프라임평생설계２형</td>\n",
              "      <td>일반암진단비</td>\n",
              "      <td>71000000</td>\n",
              "    </tr>\n",
              "    <tr>\n",
              "      <th>496807</th>\n",
              "      <td>32</td>\n",
              "      <td>F</td>\n",
              "      <td>메트라이프생명보험</td>\n",
              "      <td>무배당 360 암보험(갱신형)</td>\n",
              "      <td>전립선암진단비</td>\n",
              "      <td>253278000</td>\n",
              "    </tr>\n",
              "  </tbody>\n",
              "</table>\n",
              "</div>\n",
              "      <button class=\"colab-df-convert\" onclick=\"convertToInteractive('df-45bf72f9-6b50-4af1-afb7-f8310158acfe')\"\n",
              "              title=\"Convert this dataframe to an interactive table.\"\n",
              "              style=\"display:none;\">\n",
              "        \n",
              "  <svg xmlns=\"http://www.w3.org/2000/svg\" height=\"24px\"viewBox=\"0 0 24 24\"\n",
              "       width=\"24px\">\n",
              "    <path d=\"M0 0h24v24H0V0z\" fill=\"none\"/>\n",
              "    <path d=\"M18.56 5.44l.94 2.06.94-2.06 2.06-.94-2.06-.94-.94-2.06-.94 2.06-2.06.94zm-11 1L8.5 8.5l.94-2.06 2.06-.94-2.06-.94L8.5 2.5l-.94 2.06-2.06.94zm10 10l.94 2.06.94-2.06 2.06-.94-2.06-.94-.94-2.06-.94 2.06-2.06.94z\"/><path d=\"M17.41 7.96l-1.37-1.37c-.4-.4-.92-.59-1.43-.59-.52 0-1.04.2-1.43.59L10.3 9.45l-7.72 7.72c-.78.78-.78 2.05 0 2.83L4 21.41c.39.39.9.59 1.41.59.51 0 1.02-.2 1.41-.59l7.78-7.78 2.81-2.81c.8-.78.8-2.07 0-2.86zM5.41 20L4 18.59l7.72-7.72 1.47 1.35L5.41 20z\"/>\n",
              "  </svg>\n",
              "      </button>\n",
              "      \n",
              "  <style>\n",
              "    .colab-df-container {\n",
              "      display:flex;\n",
              "      flex-wrap:wrap;\n",
              "      gap: 12px;\n",
              "    }\n",
              "\n",
              "    .colab-df-convert {\n",
              "      background-color: #E8F0FE;\n",
              "      border: none;\n",
              "      border-radius: 50%;\n",
              "      cursor: pointer;\n",
              "      display: none;\n",
              "      fill: #1967D2;\n",
              "      height: 32px;\n",
              "      padding: 0 0 0 0;\n",
              "      width: 32px;\n",
              "    }\n",
              "\n",
              "    .colab-df-convert:hover {\n",
              "      background-color: #E2EBFA;\n",
              "      box-shadow: 0px 1px 2px rgba(60, 64, 67, 0.3), 0px 1px 3px 1px rgba(60, 64, 67, 0.15);\n",
              "      fill: #174EA6;\n",
              "    }\n",
              "\n",
              "    [theme=dark] .colab-df-convert {\n",
              "      background-color: #3B4455;\n",
              "      fill: #D2E3FC;\n",
              "    }\n",
              "\n",
              "    [theme=dark] .colab-df-convert:hover {\n",
              "      background-color: #434B5C;\n",
              "      box-shadow: 0px 1px 3px 1px rgba(0, 0, 0, 0.15);\n",
              "      filter: drop-shadow(0px 1px 2px rgba(0, 0, 0, 0.3));\n",
              "      fill: #FFFFFF;\n",
              "    }\n",
              "  </style>\n",
              "\n",
              "      <script>\n",
              "        const buttonEl =\n",
              "          document.querySelector('#df-45bf72f9-6b50-4af1-afb7-f8310158acfe button.colab-df-convert');\n",
              "        buttonEl.style.display =\n",
              "          google.colab.kernel.accessAllowed ? 'block' : 'none';\n",
              "\n",
              "        async function convertToInteractive(key) {\n",
              "          const element = document.querySelector('#df-45bf72f9-6b50-4af1-afb7-f8310158acfe');\n",
              "          const dataTable =\n",
              "            await google.colab.kernel.invokeFunction('convertToInteractive',\n",
              "                                                     [key], {});\n",
              "          if (!dataTable) return;\n",
              "\n",
              "          const docLinkHtml = 'Like what you see? Visit the ' +\n",
              "            '<a target=\"_blank\" href=https://colab.research.google.com/notebooks/data_table.ipynb>data table notebook</a>'\n",
              "            + ' to learn more about interactive tables.';\n",
              "          element.innerHTML = '';\n",
              "          dataTable['output_type'] = 'display_data';\n",
              "          await google.colab.output.renderOutput(dataTable, element);\n",
              "          const docLink = document.createElement('div');\n",
              "          docLink.innerHTML = docLinkHtml;\n",
              "          element.appendChild(docLink);\n",
              "        }\n",
              "      </script>\n",
              "    </div>\n",
              "  </div>\n",
              "  "
            ]
          },
          "metadata": {},
          "execution_count": 14
        }
      ]
    },
    {
      "cell_type": "code",
      "source": [
        "df.info()"
      ],
      "metadata": {
        "colab": {
          "base_uri": "https://localhost:8080/"
        },
        "id": "Qw260Gt_eb_o",
        "outputId": "78efede5-b46c-4276-b7c5-cefc9ff8a8f6"
      },
      "execution_count": 15,
      "outputs": [
        {
          "output_type": "stream",
          "name": "stdout",
          "text": [
            "<class 'pandas.core.frame.DataFrame'>\n",
            "RangeIndex: 732204 entries, 0 to 732203\n",
            "Data columns (total 6 columns):\n",
            " #   Column  Non-Null Count   Dtype \n",
            "---  ------  --------------   ----- \n",
            " 0   나이      732204 non-null  int64 \n",
            " 1   성별코드    732204 non-null  object\n",
            " 2   보험회사명   732204 non-null  object\n",
            " 3   보험상품명   732204 non-null  object\n",
            " 4   담보      732204 non-null  object\n",
            " 5   가입금액    732204 non-null  int64 \n",
            "dtypes: int64(2), object(4)\n",
            "memory usage: 33.5+ MB\n"
          ]
        }
      ]
    },
    {
      "cell_type": "code",
      "source": [
        "df.to_csv('project_finaldata.csv', index=False)"
      ],
      "metadata": {
        "colab": {
          "base_uri": "https://localhost:8080/",
          "height": 229
        },
        "id": "F-Li-T9xWfDA",
        "outputId": "d75309e1-83f2-410b-df8e-a44bc5db7cca"
      },
      "execution_count": 16,
      "outputs": [
        {
          "output_type": "error",
          "ename": "KeyboardInterrupt",
          "evalue": "ignored",
          "traceback": [
            "\u001b[0;31m---------------------------------------------------------------------------\u001b[0m",
            "\u001b[0;31mKeyboardInterrupt\u001b[0m                         Traceback (most recent call last)",
            "\u001b[0;32m<ipython-input-16-c223e0e9b87a>\u001b[0m in \u001b[0;36m<module>\u001b[0;34m\u001b[0m\n\u001b[0;32m----> 1\u001b[0;31m \u001b[0mdf\u001b[0m\u001b[0;34m.\u001b[0m\u001b[0mto_csv\u001b[0m\u001b[0;34m(\u001b[0m\u001b[0;34m'project_lastdata.csv'\u001b[0m\u001b[0;34m,\u001b[0m \u001b[0mindex\u001b[0m\u001b[0;34m=\u001b[0m\u001b[0;32mFalse\u001b[0m\u001b[0;34m)\u001b[0m\u001b[0;34m\u001b[0m\u001b[0;34m\u001b[0m\u001b[0m\n\u001b[0m",
            "\u001b[0;32m/usr/local/lib/python3.7/dist-packages/pandas/core/generic.py\u001b[0m in \u001b[0;36mto_csv\u001b[0;34m(self, path_or_buf, sep, na_rep, float_format, columns, header, index, index_label, mode, encoding, compression, quoting, quotechar, line_terminator, chunksize, date_format, doublequote, escapechar, decimal, errors, storage_options)\u001b[0m\n\u001b[1;32m   3480\u001b[0m             \u001b[0mdoublequote\u001b[0m\u001b[0;34m=\u001b[0m\u001b[0mdoublequote\u001b[0m\u001b[0;34m,\u001b[0m\u001b[0;34m\u001b[0m\u001b[0;34m\u001b[0m\u001b[0m\n\u001b[1;32m   3481\u001b[0m             \u001b[0mescapechar\u001b[0m\u001b[0;34m=\u001b[0m\u001b[0mescapechar\u001b[0m\u001b[0;34m,\u001b[0m\u001b[0;34m\u001b[0m\u001b[0;34m\u001b[0m\u001b[0m\n\u001b[0;32m-> 3482\u001b[0;31m             \u001b[0mstorage_options\u001b[0m\u001b[0;34m=\u001b[0m\u001b[0mstorage_options\u001b[0m\u001b[0;34m,\u001b[0m\u001b[0;34m\u001b[0m\u001b[0;34m\u001b[0m\u001b[0m\n\u001b[0m\u001b[1;32m   3483\u001b[0m         )\n\u001b[1;32m   3484\u001b[0m \u001b[0;34m\u001b[0m\u001b[0m\n",
            "\u001b[0;32m/usr/local/lib/python3.7/dist-packages/pandas/io/formats/format.py\u001b[0m in \u001b[0;36mto_csv\u001b[0;34m(self, path_or_buf, encoding, sep, columns, index_label, mode, compression, quoting, quotechar, line_terminator, chunksize, date_format, doublequote, escapechar, errors, storage_options)\u001b[0m\n\u001b[1;32m   1103\u001b[0m             \u001b[0mformatter\u001b[0m\u001b[0;34m=\u001b[0m\u001b[0mself\u001b[0m\u001b[0;34m.\u001b[0m\u001b[0mfmt\u001b[0m\u001b[0;34m,\u001b[0m\u001b[0;34m\u001b[0m\u001b[0;34m\u001b[0m\u001b[0m\n\u001b[1;32m   1104\u001b[0m         )\n\u001b[0;32m-> 1105\u001b[0;31m         \u001b[0mcsv_formatter\u001b[0m\u001b[0;34m.\u001b[0m\u001b[0msave\u001b[0m\u001b[0;34m(\u001b[0m\u001b[0;34m)\u001b[0m\u001b[0;34m\u001b[0m\u001b[0;34m\u001b[0m\u001b[0m\n\u001b[0m\u001b[1;32m   1106\u001b[0m \u001b[0;34m\u001b[0m\u001b[0m\n\u001b[1;32m   1107\u001b[0m         \u001b[0;32mif\u001b[0m \u001b[0mcreated_buffer\u001b[0m\u001b[0;34m:\u001b[0m\u001b[0;34m\u001b[0m\u001b[0;34m\u001b[0m\u001b[0m\n",
            "\u001b[0;32m/usr/local/lib/python3.7/dist-packages/pandas/io/formats/csvs.py\u001b[0m in \u001b[0;36msave\u001b[0;34m(self)\u001b[0m\n\u001b[1;32m    255\u001b[0m             )\n\u001b[1;32m    256\u001b[0m \u001b[0;34m\u001b[0m\u001b[0m\n\u001b[0;32m--> 257\u001b[0;31m             \u001b[0mself\u001b[0m\u001b[0;34m.\u001b[0m\u001b[0m_save\u001b[0m\u001b[0;34m(\u001b[0m\u001b[0;34m)\u001b[0m\u001b[0;34m\u001b[0m\u001b[0;34m\u001b[0m\u001b[0m\n\u001b[0m\u001b[1;32m    258\u001b[0m \u001b[0;34m\u001b[0m\u001b[0m\n\u001b[1;32m    259\u001b[0m     \u001b[0;32mdef\u001b[0m \u001b[0m_save\u001b[0m\u001b[0;34m(\u001b[0m\u001b[0mself\u001b[0m\u001b[0;34m)\u001b[0m \u001b[0;34m->\u001b[0m \u001b[0;32mNone\u001b[0m\u001b[0;34m:\u001b[0m\u001b[0;34m\u001b[0m\u001b[0;34m\u001b[0m\u001b[0m\n",
            "\u001b[0;32m/usr/local/lib/python3.7/dist-packages/pandas/io/formats/csvs.py\u001b[0m in \u001b[0;36m_save\u001b[0;34m(self)\u001b[0m\n\u001b[1;32m    260\u001b[0m         \u001b[0;32mif\u001b[0m \u001b[0mself\u001b[0m\u001b[0;34m.\u001b[0m\u001b[0m_need_to_save_header\u001b[0m\u001b[0;34m:\u001b[0m\u001b[0;34m\u001b[0m\u001b[0;34m\u001b[0m\u001b[0m\n\u001b[1;32m    261\u001b[0m             \u001b[0mself\u001b[0m\u001b[0;34m.\u001b[0m\u001b[0m_save_header\u001b[0m\u001b[0;34m(\u001b[0m\u001b[0;34m)\u001b[0m\u001b[0;34m\u001b[0m\u001b[0;34m\u001b[0m\u001b[0m\n\u001b[0;32m--> 262\u001b[0;31m         \u001b[0mself\u001b[0m\u001b[0;34m.\u001b[0m\u001b[0m_save_body\u001b[0m\u001b[0;34m(\u001b[0m\u001b[0;34m)\u001b[0m\u001b[0;34m\u001b[0m\u001b[0;34m\u001b[0m\u001b[0m\n\u001b[0m\u001b[1;32m    263\u001b[0m \u001b[0;34m\u001b[0m\u001b[0m\n\u001b[1;32m    264\u001b[0m     \u001b[0;32mdef\u001b[0m \u001b[0m_save_header\u001b[0m\u001b[0;34m(\u001b[0m\u001b[0mself\u001b[0m\u001b[0;34m)\u001b[0m \u001b[0;34m->\u001b[0m \u001b[0;32mNone\u001b[0m\u001b[0;34m:\u001b[0m\u001b[0;34m\u001b[0m\u001b[0;34m\u001b[0m\u001b[0m\n",
            "\u001b[0;32m/usr/local/lib/python3.7/dist-packages/pandas/io/formats/csvs.py\u001b[0m in \u001b[0;36m_save_body\u001b[0;34m(self)\u001b[0m\n\u001b[1;32m    298\u001b[0m             \u001b[0;32mif\u001b[0m \u001b[0mstart_i\u001b[0m \u001b[0;34m>=\u001b[0m \u001b[0mend_i\u001b[0m\u001b[0;34m:\u001b[0m\u001b[0;34m\u001b[0m\u001b[0;34m\u001b[0m\u001b[0m\n\u001b[1;32m    299\u001b[0m                 \u001b[0;32mbreak\u001b[0m\u001b[0;34m\u001b[0m\u001b[0;34m\u001b[0m\u001b[0m\n\u001b[0;32m--> 300\u001b[0;31m             \u001b[0mself\u001b[0m\u001b[0;34m.\u001b[0m\u001b[0m_save_chunk\u001b[0m\u001b[0;34m(\u001b[0m\u001b[0mstart_i\u001b[0m\u001b[0;34m,\u001b[0m \u001b[0mend_i\u001b[0m\u001b[0;34m)\u001b[0m\u001b[0;34m\u001b[0m\u001b[0;34m\u001b[0m\u001b[0m\n\u001b[0m\u001b[1;32m    301\u001b[0m \u001b[0;34m\u001b[0m\u001b[0m\n\u001b[1;32m    302\u001b[0m     \u001b[0;32mdef\u001b[0m \u001b[0m_save_chunk\u001b[0m\u001b[0;34m(\u001b[0m\u001b[0mself\u001b[0m\u001b[0;34m,\u001b[0m \u001b[0mstart_i\u001b[0m\u001b[0;34m:\u001b[0m \u001b[0mint\u001b[0m\u001b[0;34m,\u001b[0m \u001b[0mend_i\u001b[0m\u001b[0;34m:\u001b[0m \u001b[0mint\u001b[0m\u001b[0;34m)\u001b[0m \u001b[0;34m->\u001b[0m \u001b[0;32mNone\u001b[0m\u001b[0;34m:\u001b[0m\u001b[0;34m\u001b[0m\u001b[0;34m\u001b[0m\u001b[0m\n",
            "\u001b[0;32m/usr/local/lib/python3.7/dist-packages/pandas/io/formats/csvs.py\u001b[0m in \u001b[0;36m_save_chunk\u001b[0;34m(self, start_i, end_i)\u001b[0m\n\u001b[1;32m    314\u001b[0m             \u001b[0mself\u001b[0m\u001b[0;34m.\u001b[0m\u001b[0mnlevels\u001b[0m\u001b[0;34m,\u001b[0m\u001b[0;34m\u001b[0m\u001b[0;34m\u001b[0m\u001b[0m\n\u001b[1;32m    315\u001b[0m             \u001b[0mself\u001b[0m\u001b[0;34m.\u001b[0m\u001b[0mcols\u001b[0m\u001b[0;34m,\u001b[0m\u001b[0;34m\u001b[0m\u001b[0;34m\u001b[0m\u001b[0m\n\u001b[0;32m--> 316\u001b[0;31m             \u001b[0mself\u001b[0m\u001b[0;34m.\u001b[0m\u001b[0mwriter\u001b[0m\u001b[0;34m,\u001b[0m\u001b[0;34m\u001b[0m\u001b[0;34m\u001b[0m\u001b[0m\n\u001b[0m\u001b[1;32m    317\u001b[0m         )\n",
            "\u001b[0;32m/usr/local/lib/python3.7/dist-packages/pandas/_libs/writers.pyx\u001b[0m in \u001b[0;36mpandas._libs.writers.write_csv_rows\u001b[0;34m()\u001b[0m\n",
            "\u001b[0;31mKeyboardInterrupt\u001b[0m: "
          ]
        }
      ]
    },
    {
      "cell_type": "code",
      "source": [
        "%matplotlib inline  \n",
        "\n",
        "import matplotlib as mpl \n",
        "import matplotlib.pyplot as plt \n",
        "import matplotlib.font_manager as fm  \n",
        "\n",
        "!apt-get update -qq\n",
        "!apt-get install fonts-nanum* -qq\n",
        "\n",
        "path = '/usr/share/fonts/truetype/nanum/NanumBarunGothic.ttf' \n",
        "font_name = fm.FontProperties(fname=path, size=10).get_name()\n",
        "print(font_name)\n",
        "plt.rc('font', family=font_name)\n",
        "\n",
        "fm._rebuild()\n",
        "mpl.rcParams['axes.unicode_minus'] = False"
      ],
      "metadata": {
        "colab": {
          "base_uri": "https://localhost:8080/"
        },
        "id": "zI6CgO3PBDuS",
        "outputId": "afb7d0b9-fb5a-4c24-f82d-ce4fdbfd1f80"
      },
      "execution_count": 16,
      "outputs": [
        {
          "output_type": "stream",
          "name": "stdout",
          "text": [
            "Selecting previously unselected package fonts-nanum.\n",
            "(Reading database ... 123942 files and directories currently installed.)\n",
            "Preparing to unpack .../fonts-nanum_20170925-1_all.deb ...\n",
            "Unpacking fonts-nanum (20170925-1) ...\n",
            "Selecting previously unselected package fonts-nanum-eco.\n",
            "Preparing to unpack .../fonts-nanum-eco_1.000-6_all.deb ...\n",
            "Unpacking fonts-nanum-eco (1.000-6) ...\n",
            "Selecting previously unselected package fonts-nanum-extra.\n",
            "Preparing to unpack .../fonts-nanum-extra_20170925-1_all.deb ...\n",
            "Unpacking fonts-nanum-extra (20170925-1) ...\n",
            "Selecting previously unselected package fonts-nanum-coding.\n",
            "Preparing to unpack .../fonts-nanum-coding_2.5-1_all.deb ...\n",
            "Unpacking fonts-nanum-coding (2.5-1) ...\n",
            "Setting up fonts-nanum-extra (20170925-1) ...\n",
            "Setting up fonts-nanum (20170925-1) ...\n",
            "Setting up fonts-nanum-coding (2.5-1) ...\n",
            "Setting up fonts-nanum-eco (1.000-6) ...\n",
            "Processing triggers for fontconfig (2.12.6-0ubuntu2) ...\n",
            "NanumBarunGothic\n"
          ]
        }
      ]
    },
    {
      "cell_type": "code",
      "source": [
        "import seaborn as sns\n",
        "import matplotlib.pyplot as plt\n",
        "import seaborn as sns\n",
        "from sklearn.preprocessing import StandardScaler, PolynomialFeatures\n",
        "from sklearn.linear_model import LinearRegression, Ridge, Lasso\n",
        "import warnings\n",
        "warnings.filterwarnings(action='ignore')"
      ],
      "metadata": {
        "id": "5YHJNv04W4ae"
      },
      "execution_count": 17,
      "outputs": []
    },
    {
      "cell_type": "code",
      "source": [
        "# 타겟의 분포를 확인\n",
        "sns.histplot(df['가입금액'], bins=2)"
      ],
      "metadata": {
        "colab": {
          "base_uri": "https://localhost:8080/",
          "height": 315
        },
        "id": "-d2Re35-W-5W",
        "outputId": "7c5e3e64-59d1-41d8-af02-d1452a5d29c4"
      },
      "execution_count": 18,
      "outputs": [
        {
          "output_type": "execute_result",
          "data": {
            "text/plain": [
              "<matplotlib.axes._subplots.AxesSubplot at 0x7f37a231c210>"
            ]
          },
          "metadata": {},
          "execution_count": 18
        },
        {
          "output_type": "stream",
          "name": "stderr",
          "text": [
            "WARNING:matplotlib.font_manager:findfont: Font family ['NanumBarunGothic'] not found. Falling back to DejaVu Sans.\n"
          ]
        },
        {
          "output_type": "display_data",
          "data": {
            "text/plain": [
              "<Figure size 432x288 with 1 Axes>"
            ],
            "image/png": "[encoded data removed]"
          },
          "metadata": {
            "needs_background": "light"
          }
        }
      ]
    },
    {
      "cell_type": "code",
      "source": [
        "# 수치형 컬럼과 타겟간의 상관관계를 확인, 상관관계가 높은 순서 컬럼\n",
        "# target = 가입금액\n",
        "df.corr()['가입금액'].sort_values(ascending=False).head()"
      ],
      "metadata": {
        "colab": {
          "base_uri": "https://localhost:8080/"
        },
        "id": "tYM1g6nRXBjG",
        "outputId": "074d9196-5dc9-4163-cd69-193af77a2b40"
      },
      "execution_count": 19,
      "outputs": [
        {
          "output_type": "execute_result",
          "data": {
            "text/plain": [
              "가입금액    1.000000\n",
              "나이     -0.078084\n",
              "Name: 가입금액, dtype: float64"
            ]
          },
          "metadata": {},
          "execution_count": 19
        }
      ]
    },
    {
      "cell_type": "code",
      "source": [
        "# 범주형 컬럼과 타겟과의 관계\n",
        "fig = plt.figure()\n",
        "fig.set_size_inches(12, 6)\n",
        "sns.boxplot(data=df, x='성별코드', y='가입금액')"
      ],
      "metadata": {
        "colab": {
          "base_uri": "https://localhost:8080/",
          "height": 417
        },
        "id": "AM3Q5mcRBNzF",
        "outputId": "c92e96d2-9281-43ae-a783-1ac17930a264"
      },
      "execution_count": 20,
      "outputs": [
        {
          "output_type": "execute_result",
          "data": {
            "text/plain": [
              "<matplotlib.axes._subplots.AxesSubplot at 0x7f37a4c23890>"
            ]
          },
          "metadata": {},
          "execution_count": 20
        },
        {
          "output_type": "display_data",
          "data": {
            "text/plain": [
              "<Figure size 864x432 with 1 Axes>"
            ],
            "image/png": "[encoded data removed]"
          },
          "metadata": {
            "needs_background": "light"
          }
        }
      ]
    },
    {
      "cell_type": "code",
      "source": [
        "pd.set_option('display.float_format', '{:,.1f}'.format)"
      ],
      "metadata": {
        "id": "8DEHEO-E0SfJ"
      },
      "execution_count": 21,
      "outputs": []
    },
    {
      "cell_type": "code",
      "source": [
        "df.describe() #가입금액이 평균과 중앙값의 차이가 크니까 이상치를 제거해주기"
      ],
      "metadata": {
        "colab": {
          "base_uri": "https://localhost:8080/",
          "height": 300
        },
        "id": "r9pX2HgyynW7",
        "outputId": "281afa70-259b-4f99-8e67-5ca5bc5f9f95"
      },
      "execution_count": 22,
      "outputs": [
        {
          "output_type": "execute_result",
          "data": {
            "text/plain": [
              "             나이            가입금액\n",
              "count 732,204.0       732,204.0\n",
              "mean       41.0    71,937,419.4\n",
              "std        13.2   178,416,144.5\n",
              "min        14.0             0.0\n",
              "25%        29.0    10,000,000.0\n",
              "50%        40.0    36,000,000.0\n",
              "75%        52.0    85,000,000.0\n",
              "max        84.0 5,200,000,000.0"
            ],
            "text/html": [
              "\n",
              "  <div id=\"df-c4e790b0-caf5-4a90-b2ef-c474d8bb1229\">\n",
              "    <div class=\"colab-df-container\">\n",
              "      <div>\n",
              "<style scoped>\n",
              "    .dataframe tbody tr th:only-of-type {\n",
              "        vertical-align: middle;\n",
              "    }\n",
              "\n",
              "    .dataframe tbody tr th {\n",
              "        vertical-align: top;\n",
              "    }\n",
              "\n",
              "    .dataframe thead th {\n",
              "        text-align: right;\n",
              "    }\n",
              "</style>\n",
              "<table border=\"1\" class=\"dataframe\">\n",
              "  <thead>\n",
              "    <tr style=\"text-align: right;\">\n",
              "      <th></th>\n",
              "      <th>나이</th>\n",
              "      <th>가입금액</th>\n",
              "    </tr>\n",
              "  </thead>\n",
              "  <tbody>\n",
              "    <tr>\n",
              "      <th>count</th>\n",
              "      <td>732,204.0</td>\n",
              "      <td>732,204.0</td>\n",
              "    </tr>\n",
              "    <tr>\n",
              "      <th>mean</th>\n",
              "      <td>41.0</td>\n",
              "      <td>71,937,419.4</td>\n",
              "    </tr>\n",
              "    <tr>\n",
              "      <th>std</th>\n",
              "      <td>13.2</td>\n",
              "      <td>178,416,144.5</td>\n",
              "    </tr>\n",
              "    <tr>\n",
              "      <th>min</th>\n",
              "      <td>14.0</td>\n",
              "      <td>0.0</td>\n",
              "    </tr>\n",
              "    <tr>\n",
              "      <th>25%</th>\n",
              "      <td>29.0</td>\n",
              "      <td>10,000,000.0</td>\n",
              "    </tr>\n",
              "    <tr>\n",
              "      <th>50%</th>\n",
              "      <td>40.0</td>\n",
              "      <td>36,000,000.0</td>\n",
              "    </tr>\n",
              "    <tr>\n",
              "      <th>75%</th>\n",
              "      <td>52.0</td>\n",
              "      <td>85,000,000.0</td>\n",
              "    </tr>\n",
              "    <tr>\n",
              "      <th>max</th>\n",
              "      <td>84.0</td>\n",
              "      <td>5,200,000,000.0</td>\n",
              "    </tr>\n",
              "  </tbody>\n",
              "</table>\n",
              "</div>\n",
              "      <button class=\"colab-df-convert\" onclick=\"convertToInteractive('df-c4e790b0-caf5-4a90-b2ef-c474d8bb1229')\"\n",
              "              title=\"Convert this dataframe to an interactive table.\"\n",
              "              style=\"display:none;\">\n",
              "        \n",
              "  <svg xmlns=\"http://www.w3.org/2000/svg\" height=\"24px\"viewBox=\"0 0 24 24\"\n",
              "       width=\"24px\">\n",
              "    <path d=\"M0 0h24v24H0V0z\" fill=\"none\"/>\n",
              "    <path d=\"M18.56 5.44l.94 2.06.94-2.06 2.06-.94-2.06-.94-.94-2.06-.94 2.06-2.06.94zm-11 1L8.5 8.5l.94-2.06 2.06-.94-2.06-.94L8.5 2.5l-.94 2.06-2.06.94zm10 10l.94 2.06.94-2.06 2.06-.94-2.06-.94-.94-2.06-.94 2.06-2.06.94z\"/><path d=\"M17.41 7.96l-1.37-1.37c-.4-.4-.92-.59-1.43-.59-.52 0-1.04.2-1.43.59L10.3 9.45l-7.72 7.72c-.78.78-.78 2.05 0 2.83L4 21.41c.39.39.9.59 1.41.59.51 0 1.02-.2 1.41-.59l7.78-7.78 2.81-2.81c.8-.78.8-2.07 0-2.86zM5.41 20L4 18.59l7.72-7.72 1.47 1.35L5.41 20z\"/>\n",
              "  </svg>\n",
              "      </button>\n",
              "      \n",
              "  <style>\n",
              "    .colab-df-container {\n",
              "      display:flex;\n",
              "      flex-wrap:wrap;\n",
              "      gap: 12px;\n",
              "    }\n",
              "\n",
              "    .colab-df-convert {\n",
              "      background-color: #E8F0FE;\n",
              "      border: none;\n",
              "      border-radius: 50%;\n",
              "      cursor: pointer;\n",
              "      display: none;\n",
              "      fill: #1967D2;\n",
              "      height: 32px;\n",
              "      padding: 0 0 0 0;\n",
              "      width: 32px;\n",
              "    }\n",
              "\n",
              "    .colab-df-convert:hover {\n",
              "      background-color: #E2EBFA;\n",
              "      box-shadow: 0px 1px 2px rgba(60, 64, 67, 0.3), 0px 1px 3px 1px rgba(60, 64, 67, 0.15);\n",
              "      fill: #174EA6;\n",
              "    }\n",
              "\n",
              "    [theme=dark] .colab-df-convert {\n",
              "      background-color: #3B4455;\n",
              "      fill: #D2E3FC;\n",
              "    }\n",
              "\n",
              "    [theme=dark] .colab-df-convert:hover {\n",
              "      background-color: #434B5C;\n",
              "      box-shadow: 0px 1px 3px 1px rgba(0, 0, 0, 0.15);\n",
              "      filter: drop-shadow(0px 1px 2px rgba(0, 0, 0, 0.3));\n",
              "      fill: #FFFFFF;\n",
              "    }\n",
              "  </style>\n",
              "\n",
              "      <script>\n",
              "        const buttonEl =\n",
              "          document.querySelector('#df-c4e790b0-caf5-4a90-b2ef-c474d8bb1229 button.colab-df-convert');\n",
              "        buttonEl.style.display =\n",
              "          google.colab.kernel.accessAllowed ? 'block' : 'none';\n",
              "\n",
              "        async function convertToInteractive(key) {\n",
              "          const element = document.querySelector('#df-c4e790b0-caf5-4a90-b2ef-c474d8bb1229');\n",
              "          const dataTable =\n",
              "            await google.colab.kernel.invokeFunction('convertToInteractive',\n",
              "                                                     [key], {});\n",
              "          if (!dataTable) return;\n",
              "\n",
              "          const docLinkHtml = 'Like what you see? Visit the ' +\n",
              "            '<a target=\"_blank\" href=https://colab.research.google.com/notebooks/data_table.ipynb>data table notebook</a>'\n",
              "            + ' to learn more about interactive tables.';\n",
              "          element.innerHTML = '';\n",
              "          dataTable['output_type'] = 'display_data';\n",
              "          await google.colab.output.renderOutput(dataTable, element);\n",
              "          const docLink = document.createElement('div');\n",
              "          docLink.innerHTML = docLinkHtml;\n",
              "          element.appendChild(docLink);\n",
              "        }\n",
              "      </script>\n",
              "    </div>\n",
              "  </div>\n",
              "  "
            ]
          },
          "metadata": {},
          "execution_count": 22
        }
      ]
    },
    {
      "cell_type": "code",
      "source": [
        "df = df[df['가입금액'] < 1000000000]\n",
        "df = df[df['가입금액'] != 0]"
      ],
      "metadata": {
        "id": "u8Yy-QcayGcY"
      },
      "execution_count": 23,
      "outputs": []
    },
    {
      "cell_type": "code",
      "source": [
        "# 범주형 컬럼과 타겟과의 관계\n",
        "fig = plt.figure()\n",
        "fig.set_size_inches(12, 6)\n",
        "sns.boxplot(data=df, x='성별코드', y='가입금액')"
      ],
      "metadata": {
        "colab": {
          "base_uri": "https://localhost:8080/",
          "height": 417
        },
        "id": "lYoS5TbX1g43",
        "outputId": "096b833a-8e69-4328-f1c3-7f027e069221"
      },
      "execution_count": 24,
      "outputs": [
        {
          "output_type": "execute_result",
          "data": {
            "text/plain": [
              "<matplotlib.axes._subplots.AxesSubplot at 0x7f37a06c04d0>"
            ]
          },
          "metadata": {},
          "execution_count": 24
        },
        {
          "output_type": "display_data",
          "data": {
            "text/plain": [
              "<Figure size 864x432 with 1 Axes>"
            ],
            "image/png": "[encoded data removed]"
          },
          "metadata": {
            "needs_background": "light"
          }
        }
      ]
    },
    {
      "cell_type": "code",
      "source": [
        "df = df[df['가입금액'] < 400000000]"
      ],
      "metadata": {
        "id": "nQbmrHHj2ZuG"
      },
      "execution_count": 25,
      "outputs": []
    },
    {
      "cell_type": "code",
      "source": [
        "# 범주형 컬럼과 타겟과의 관계\n",
        "fig = plt.figure()\n",
        "fig.set_size_inches(12, 6)\n",
        "sns.boxplot(data=df, x='성별코드', y='가입금액')"
      ],
      "metadata": {
        "colab": {
          "base_uri": "https://localhost:8080/",
          "height": 417
        },
        "id": "hZyjY4L92oiR",
        "outputId": "240a6dae-7b45-4db6-f9ba-35eca675cc73"
      },
      "execution_count": 26,
      "outputs": [
        {
          "output_type": "execute_result",
          "data": {
            "text/plain": [
              "<matplotlib.axes._subplots.AxesSubplot at 0x7f37a2612450>"
            ]
          },
          "metadata": {},
          "execution_count": 26
        },
        {
          "output_type": "display_data",
          "data": {
            "text/plain": [
              "<Figure size 864x432 with 1 Axes>"
            ],
            "image/png": "[encoded data removed]"
          },
          "metadata": {
            "needs_background": "light"
          }
        }
      ]
    },
    {
      "cell_type": "code",
      "source": [
        "df.describe()"
      ],
      "metadata": {
        "colab": {
          "base_uri": "https://localhost:8080/",
          "height": 300
        },
        "id": "X_Uy6lUK3YBF",
        "outputId": "f6da1280-cc38-4f7c-f571-a3605a44c337"
      },
      "execution_count": 27,
      "outputs": [
        {
          "output_type": "execute_result",
          "data": {
            "text/plain": [
              "             나이          가입금액\n",
              "count 682,903.0     682,903.0\n",
              "mean       41.2  60,667,993.9\n",
              "std        13.2  64,470,580.7\n",
              "min        14.0     100,000.0\n",
              "25%        29.0  13,000,000.0\n",
              "50%        40.0  40,000,000.0\n",
              "75%        52.0  85,952,000.0\n",
              "max        84.0 395,385,000.0"
            ],
            "text/html": [
              "\n",
              "  <div id=\"df-f4eb1660-cd5e-4895-8322-ecd5a86ec63e\">\n",
              "    <div class=\"colab-df-container\">\n",
              "      <div>\n",
              "<style scoped>\n",
              "    .dataframe tbody tr th:only-of-type {\n",
              "        vertical-align: middle;\n",
              "    }\n",
              "\n",
              "    .dataframe tbody tr th {\n",
              "        vertical-align: top;\n",
              "    }\n",
              "\n",
              "    .dataframe thead th {\n",
              "        text-align: right;\n",
              "    }\n",
              "</style>\n",
              "<table border=\"1\" class=\"dataframe\">\n",
              "  <thead>\n",
              "    <tr style=\"text-align: right;\">\n",
              "      <th></th>\n",
              "      <th>나이</th>\n",
              "      <th>가입금액</th>\n",
              "    </tr>\n",
              "  </thead>\n",
              "  <tbody>\n",
              "    <tr>\n",
              "      <th>count</th>\n",
              "      <td>682,903.0</td>\n",
              "      <td>682,903.0</td>\n",
              "    </tr>\n",
              "    <tr>\n",
              "      <th>mean</th>\n",
              "      <td>41.2</td>\n",
              "      <td>60,667,993.9</td>\n",
              "    </tr>\n",
              "    <tr>\n",
              "      <th>std</th>\n",
              "      <td>13.2</td>\n",
              "      <td>64,470,580.7</td>\n",
              "    </tr>\n",
              "    <tr>\n",
              "      <th>min</th>\n",
              "      <td>14.0</td>\n",
              "      <td>100,000.0</td>\n",
              "    </tr>\n",
              "    <tr>\n",
              "      <th>25%</th>\n",
              "      <td>29.0</td>\n",
              "      <td>13,000,000.0</td>\n",
              "    </tr>\n",
              "    <tr>\n",
              "      <th>50%</th>\n",
              "      <td>40.0</td>\n",
              "      <td>40,000,000.0</td>\n",
              "    </tr>\n",
              "    <tr>\n",
              "      <th>75%</th>\n",
              "      <td>52.0</td>\n",
              "      <td>85,952,000.0</td>\n",
              "    </tr>\n",
              "    <tr>\n",
              "      <th>max</th>\n",
              "      <td>84.0</td>\n",
              "      <td>395,385,000.0</td>\n",
              "    </tr>\n",
              "  </tbody>\n",
              "</table>\n",
              "</div>\n",
              "      <button class=\"colab-df-convert\" onclick=\"convertToInteractive('df-f4eb1660-cd5e-4895-8322-ecd5a86ec63e')\"\n",
              "              title=\"Convert this dataframe to an interactive table.\"\n",
              "              style=\"display:none;\">\n",
              "        \n",
              "  <svg xmlns=\"http://www.w3.org/2000/svg\" height=\"24px\"viewBox=\"0 0 24 24\"\n",
              "       width=\"24px\">\n",
              "    <path d=\"M0 0h24v24H0V0z\" fill=\"none\"/>\n",
              "    <path d=\"M18.56 5.44l.94 2.06.94-2.06 2.06-.94-2.06-.94-.94-2.06-.94 2.06-2.06.94zm-11 1L8.5 8.5l.94-2.06 2.06-.94-2.06-.94L8.5 2.5l-.94 2.06-2.06.94zm10 10l.94 2.06.94-2.06 2.06-.94-2.06-.94-.94-2.06-.94 2.06-2.06.94z\"/><path d=\"M17.41 7.96l-1.37-1.37c-.4-.4-.92-.59-1.43-.59-.52 0-1.04.2-1.43.59L10.3 9.45l-7.72 7.72c-.78.78-.78 2.05 0 2.83L4 21.41c.39.39.9.59 1.41.59.51 0 1.02-.2 1.41-.59l7.78-7.78 2.81-2.81c.8-.78.8-2.07 0-2.86zM5.41 20L4 18.59l7.72-7.72 1.47 1.35L5.41 20z\"/>\n",
              "  </svg>\n",
              "      </button>\n",
              "      \n",
              "  <style>\n",
              "    .colab-df-container {\n",
              "      display:flex;\n",
              "      flex-wrap:wrap;\n",
              "      gap: 12px;\n",
              "    }\n",
              "\n",
              "    .colab-df-convert {\n",
              "      background-color: #E8F0FE;\n",
              "      border: none;\n",
              "      border-radius: 50%;\n",
              "      cursor: pointer;\n",
              "      display: none;\n",
              "      fill: #1967D2;\n",
              "      height: 32px;\n",
              "      padding: 0 0 0 0;\n",
              "      width: 32px;\n",
              "    }\n",
              "\n",
              "    .colab-df-convert:hover {\n",
              "      background-color: #E2EBFA;\n",
              "      box-shadow: 0px 1px 2px rgba(60, 64, 67, 0.3), 0px 1px 3px 1px rgba(60, 64, 67, 0.15);\n",
              "      fill: #174EA6;\n",
              "    }\n",
              "\n",
              "    [theme=dark] .colab-df-convert {\n",
              "      background-color: #3B4455;\n",
              "      fill: #D2E3FC;\n",
              "    }\n",
              "\n",
              "    [theme=dark] .colab-df-convert:hover {\n",
              "      background-color: #434B5C;\n",
              "      box-shadow: 0px 1px 3px 1px rgba(0, 0, 0, 0.15);\n",
              "      filter: drop-shadow(0px 1px 2px rgba(0, 0, 0, 0.3));\n",
              "      fill: #FFFFFF;\n",
              "    }\n",
              "  </style>\n",
              "\n",
              "      <script>\n",
              "        const buttonEl =\n",
              "          document.querySelector('#df-f4eb1660-cd5e-4895-8322-ecd5a86ec63e button.colab-df-convert');\n",
              "        buttonEl.style.display =\n",
              "          google.colab.kernel.accessAllowed ? 'block' : 'none';\n",
              "\n",
              "        async function convertToInteractive(key) {\n",
              "          const element = document.querySelector('#df-f4eb1660-cd5e-4895-8322-ecd5a86ec63e');\n",
              "          const dataTable =\n",
              "            await google.colab.kernel.invokeFunction('convertToInteractive',\n",
              "                                                     [key], {});\n",
              "          if (!dataTable) return;\n",
              "\n",
              "          const docLinkHtml = 'Like what you see? Visit the ' +\n",
              "            '<a target=\"_blank\" href=https://colab.research.google.com/notebooks/data_table.ipynb>data table notebook</a>'\n",
              "            + ' to learn more about interactive tables.';\n",
              "          element.innerHTML = '';\n",
              "          dataTable['output_type'] = 'display_data';\n",
              "          await google.colab.output.renderOutput(dataTable, element);\n",
              "          const docLink = document.createElement('div');\n",
              "          docLink.innerHTML = docLinkHtml;\n",
              "          element.appendChild(docLink);\n",
              "        }\n",
              "      </script>\n",
              "    </div>\n",
              "  </div>\n",
              "  "
            ]
          },
          "metadata": {},
          "execution_count": 27
        }
      ]
    },
    {
      "cell_type": "code",
      "source": [
        "df = df[df['가입금액'] < 13000000]"
      ],
      "metadata": {
        "id": "LL4k8k-TwecI"
      },
      "execution_count": 28,
      "outputs": []
    },
    {
      "cell_type": "code",
      "source": [
        "# 범주형 컬럼과 타겟과의 관계\n",
        "fig = plt.figure()\n",
        "fig.set_size_inches(12, 6)\n",
        "sns.boxplot(data=df, x='성별코드', y='가입금액')"
      ],
      "metadata": {
        "colab": {
          "base_uri": "https://localhost:8080/",
          "height": 417
        },
        "id": "FKEGBZIz3kPX",
        "outputId": "0c901874-ed6c-4bf4-cbde-3f6cca59065f"
      },
      "execution_count": 29,
      "outputs": [
        {
          "output_type": "execute_result",
          "data": {
            "text/plain": [
              "<matplotlib.axes._subplots.AxesSubplot at 0x7f37a25d7dd0>"
            ]
          },
          "metadata": {},
          "execution_count": 29
        },
        {
          "output_type": "display_data",
          "data": {
            "text/plain": [
              "<Figure size 864x432 with 1 Axes>"
            ],
            "image/png": "[encoded data removed]"
          },
          "metadata": {
            "needs_background": "light"
          }
        }
      ]
    },
    {
      "cell_type": "code",
      "source": [
        "df['보험회사명'].unique()"
      ],
      "metadata": {
        "colab": {
          "base_uri": "https://localhost:8080/"
        },
        "id": "r1eLoX3CX9Ux",
        "outputId": "d2237111-452f-4fd5-b047-16e0fa0800d8"
      },
      "execution_count": 30,
      "outputs": [
        {
          "output_type": "execute_result",
          "data": {
            "text/plain": [
              "array(['푸르덴셜생명보험', '삼성생명보험', '에이스손해보험', '메리츠화재보험', '삼성화재해상보험', 'DB손해보험',\n",
              "       '하나손해보험', 'NH농협생명보험', '한화생명보험', '현대해상화재보험', '흥국화재해상보험', '교보생명보험',\n",
              "       'ABL생명보험', '한화손해보험', 'KB손해보험', '동양생명보험', '새마을금고중앙회', 'MG손해보험',\n",
              "       '라이나생명보험', '우정사업본부', 'KDB생명보험', '교직원공제회보험', '신한라이프생명보험', 'AIA생명보험',\n",
              "       '롯데손해보험', '미래에셋생명보험', '흥국생명보험', 'AIG손해보험', 'NH농협손해보험', '메트라이프생명보험',\n",
              "       '교보라이프플래닛생명보험', 'AXA손해보험', 'DB생명보험', 'DGB생명보험', '푸본현대생명보험',\n",
              "       'KB생명보험', '신용협동조합중앙회', '하나생명보험', '처브라이프생명보험', '수산업협동조합중앙회',\n",
              "       'BNP파리바카디프생명보험'], dtype=object)"
            ]
          },
          "metadata": {},
          "execution_count": 30
        }
      ]
    },
    {
      "cell_type": "code",
      "source": [
        "# 범주형 컬럼과 타겟과의 관계\n",
        "fig = plt.figure()\n",
        "fig.set_size_inches(24, 12)\n",
        "sns.boxplot(data=df, x='보험회사명', y='가입금액')"
      ],
      "metadata": {
        "colab": {
          "base_uri": "https://localhost:8080/",
          "height": 695
        },
        "id": "R_Zi5aw9E5FT",
        "outputId": "f28232bf-610e-42c3-d7da-bac10451588e"
      },
      "execution_count": 31,
      "outputs": [
        {
          "output_type": "execute_result",
          "data": {
            "text/plain": [
              "<matplotlib.axes._subplots.AxesSubplot at 0x7f37a3b121d0>"
            ]
          },
          "metadata": {},
          "execution_count": 31
        },
        {
          "output_type": "display_data",
          "data": {
            "text/plain": [
              "<Figure size 1728x864 with 1 Axes>"
            ],
            "image/png": "[encoded data removed]"
          },
          "metadata": {
            "needs_background": "light"
          }
        }
      ]
    },
    {
      "cell_type": "code",
      "source": [
        "fig = plt.figure()\n",
        "plt.title('보험회사별 가입금액')\n",
        "fig.set_size_inches(24, 12)\n",
        "ax = plt.subplot(1, 1, 1)\n",
        "ax.bar([i * 2 for i in range(len('보험회사명'))], '가입금액', label='가입금액')\n",
        "plt.xticks([i * 2 + 0.5 for i in range(len('보험회사명'))], '보험회사명')\n",
        "\n",
        "for label in ax.xaxis.get_ticklabels() :\n",
        "    label.set_rotation(45)\n",
        "\n",
        "plt.legend()\n",
        "sns.boxplot(data=df, x='보험회사명', y='가입금액')\n",
        "plt.show()"
      ],
      "metadata": {
        "colab": {
          "base_uri": "https://localhost:8080/",
          "height": 750
        },
        "id": "YDvDdbrbBY3D",
        "outputId": "f96f5b01-dfe7-4033-ed32-481fd3480ae9"
      },
      "execution_count": 32,
      "outputs": [
        {
          "output_type": "stream",
          "name": "stderr",
          "text": [
            "WARNING:matplotlib.font_manager:findfont: Font family ['NanumBarunGothic'] not found. Falling back to DejaVu Sans.\n"
          ]
        },
        {
          "output_type": "display_data",
          "data": {
            "text/plain": [
              "<Figure size 1728x864 with 1 Axes>"
            ],
            "image/png": "[encoded data removed]"
          },
          "metadata": {
            "needs_background": "light"
          }
        }
      ]
    },
    {
      "cell_type": "code",
      "source": [
        "'''\n",
        "a = df[(df['보험회사명']=='흥국생명보험') & (df['가입금액'] < 250000000)]\n",
        "b = df[(df['보험회사명']=='DB손해보험') & (df['가입금액'] < 180000000)]\n",
        "c = df[df['보험회사명']=='신한생명보험']\n",
        "d = df[(df['보험회사명']=='삼성생명보험') & (df['가입금액'] < 200000000)]\n",
        "e = df[(df['보험회사명']=='삼성화재해상보험') & (df['가입금액'] < 180000000)]\n",
        "f = df[(df['보험회사명']=='푸르덴셜생명보험') & (df['가입금액'] < 150000000)]\n",
        "g = df[(df['보험회사명']=='흥국화재해상보험') & (df['가입금액'] < 200000000)]\n",
        "h = df[(df['보험회사명']=='현대해상화재보험') & (df['가입금액'] < 180000000)]\n",
        "i = df[(df['보험회사명']=='라이나생명보험') & (df['가입금액'] < 280000000)]\n",
        "j = df[(df['보험회사명']=='교보생명') & (df['가입금액'] < 250000000)]\n",
        "k = df[(df['보험회사명']=='KB손해보험') & (df['가입금액'] < 180000000)]\n",
        "l = df[(df['보험회사명']=='KDB생명보험') & (df['가입금액'] < 20000000)]\n",
        "m = df[(df['보험회사명']=='한화손해보험') & (df['가입금액'] < 200000000)]\n",
        "n = df[(df['보험회사명']=='한화생명보험') & (df['가입금액'] < 250000000)]\n",
        "o = df[(df['보험회사명']=='메리츠화재보험') & (df['가입금액'] < 180000000)]\n",
        "p = df[(df['보험회사명']=='\bAIA생명보험') & (df['가입금액'] < 200000000)]\n",
        "q = df[(df['보험회사명']=='\b동양생명보험') & (df['가입금액'] < 220000000)]\n",
        "r = df[(df['보험회사명']=='\b신한라이프생명보험') & (df['가입금액'] < 250000000)]\n",
        "s = df[(df['보험회사명']=='\b미래에셋생명보험') & (df['가입금액'] < 220000000)]\n",
        "t = df[(df['보험회사명']=='\bABL생명보험') & (df['가입금액'] < 250000000)]\n",
        "u = df[(df['보험회사명']=='\b우정사업본부') & (df['가입금액'] < 250000000)]\n",
        "v = df[(df['보험회사명']=='\bMG손해보험') & (df['가입금액'] < 200000000)]\n",
        "w = df[(df['보험회사명']=='\bAIG손해보험') & (df['가입금액'] < 220000000)]\n",
        "x = df[(df['보험회사명']=='\b에이스손해보험') & (df['가입금액'] < 200000000)]\n",
        "y = df[(df['보험회사명']=='\b메트라이프생명보험') & (df['가입금액'] < 180000000)]\n",
        "z = df[(df['보험회사명']=='\bNH농협손해보험') & (df['가입금액'] < 220000000)]\n",
        "A = df[(df['보험회사명']=='\b롯데손해보험') & (df['가입금액'] < 200000000)]\n",
        "B = df[(df['보험회사명']=='\b새마을금고중앙회') & (df['가입금액'] < 200000000)]\n",
        "C = df[(df['보험회사명']=='\b수산업협동조합중앙회') & (df['가입금액'] < 200000000)]\n",
        "D = df[(df['보험회사명']=='\bDB생명보험') & (df['가입금액'] < 220000000)]\n",
        "E = df[(df['보험회사명']=='\b처브라이프생명보험')]\n",
        "F = df[(df['보험회사명']=='\bDGB생명보험') & (df['가입금액'] < 250000000)]\n",
        "G = df[(df['보험회사명']=='\b하나손해보험') & (df['가입금액'] < 150000000)]\n",
        "H = df[(df['보험회사명']=='\bKB생명보험')]\n",
        "I = df[(df['보험회사명']=='\b푸본현대생명보험') & (df['가입금액'] < 200000000)]\n",
        "J = df[(df['보험회사명']=='\bNH농협생명보험') & (df['가입금액'] < 200000000)]\n",
        "K = df[(df['보험회사명']=='\bAXA손해보험') & (df['가입금액'] < 250000000)]\n",
        "L = df[(df['보험회사명']=='\b교보라이프플래닛생명보험') & (df['가입금액'] < 250000000)]\n",
        "M = df[(df['보험회사명']=='\b신용협동조합중앙회') & (df['가입금액'] < 250000000)]\n",
        "N = df[(df['보험회사명']=='\b하나생명보험')]\n",
        "O = df[(df['보험회사명']=='\b교직원공제회보험')]\n",
        "P = df[(df['보험회사명']=='\bBNP파리바카디프생명보험')]\n",
        "'''"
      ],
      "metadata": {
        "id": "Kz5wSv5HLW09"
      },
      "execution_count": 28,
      "outputs": []
    },
    {
      "cell_type": "code",
      "source": [
        "# df = pd.concat([a,b,c,d,e,f,g,h,i,j,i,k,l,m,n,o,p,q,r,s,t,u,v,w,x,y,z,A,B,C,D,E,F,G,H,I,J,K,L,M,N,O,P])"
      ],
      "metadata": {
        "id": "L4_9Y8yIffIA"
      },
      "execution_count": null,
      "outputs": []
    },
    {
      "cell_type": "code",
      "source": [
        "# 데이터를 나누기\n",
        "from sklearn.model_selection import train_test_split\n",
        "\n",
        "target = df['가입금액']\n",
        "\n",
        "train_val, test = train_test_split(df, test_size=0.2, random_state=42)\n",
        "train, val = train_test_split(train_val, train_size=0.8, test_size=0.20, random_state=42)\n",
        "\n",
        "X_train = train.drop('가입금액', axis=1)\n",
        "y_train = train['가입금액']\n",
        "\n",
        "X_val = val.drop('가입금액', axis=1)\n",
        "y_val = val['가입금액']\n",
        "\n",
        "X_test = test.drop('가입금액', axis=1)\n",
        "y_test = test['가입금액']\n",
        "\n",
        "# train, test 데이터가 잘 나눠졌는지 확인\n",
        "X_train.shape, X_test.shape, X_val.shape, y_val.shape, y_train.shape, y_test.shape\n"
      ],
      "metadata": {
        "colab": {
          "base_uri": "https://localhost:8080/"
        },
        "id": "8_suZ-DNXF3K",
        "outputId": "73900b2e-1684-4bda-9654-29e54bbb762d"
      },
      "execution_count": 33,
      "outputs": [
        {
          "output_type": "execute_result",
          "data": {
            "text/plain": [
              "((105555, 5), (32986, 5), (26389, 5), (26389,), (105555,), (32986,))"
            ]
          },
          "metadata": {},
          "execution_count": 33
        }
      ]
    },
    {
      "cell_type": "code",
      "source": [
        "!pip install category_encoders"
      ],
      "metadata": {
        "colab": {
          "base_uri": "https://localhost:8080/"
        },
        "id": "3kMHrK9mGxK-",
        "outputId": "536dffa9-4471-4d6d-be71-1a1a9842ef62"
      },
      "execution_count": 34,
      "outputs": [
        {
          "output_type": "stream",
          "name": "stdout",
          "text": [
            "Looking in indexes: https://pypi.org/simple, https://us-python.pkg.dev/colab-wheels/public/simple/\n",
            "Collecting category_encoders\n",
            "  Downloading category_encoders-2.5.1.post0-py2.py3-none-any.whl (72 kB)\n",
            "\u001b[K     |████████████████████████████████| 72 kB 1.0 MB/s \n",
            "\u001b[?25hRequirement already satisfied: patsy>=0.5.1 in /usr/local/lib/python3.7/dist-packages (from category_encoders) (0.5.3)\n",
            "Requirement already satisfied: pandas>=1.0.5 in /usr/local/lib/python3.7/dist-packages (from category_encoders) (1.3.5)\n",
            "Requirement already satisfied: numpy>=1.14.0 in /usr/local/lib/python3.7/dist-packages (from category_encoders) (1.21.6)\n",
            "Requirement already satisfied: scipy>=1.0.0 in /usr/local/lib/python3.7/dist-packages (from category_encoders) (1.7.3)\n",
            "Requirement already satisfied: statsmodels>=0.9.0 in /usr/local/lib/python3.7/dist-packages (from category_encoders) (0.12.2)\n",
            "Requirement already satisfied: scikit-learn>=0.20.0 in /usr/local/lib/python3.7/dist-packages (from category_encoders) (1.0.2)\n",
            "Requirement already satisfied: python-dateutil>=2.7.3 in /usr/local/lib/python3.7/dist-packages (from pandas>=1.0.5->category_encoders) (2.8.2)\n",
            "Requirement already satisfied: pytz>=2017.3 in /usr/local/lib/python3.7/dist-packages (from pandas>=1.0.5->category_encoders) (2022.5)\n",
            "Requirement already satisfied: six in /usr/local/lib/python3.7/dist-packages (from patsy>=0.5.1->category_encoders) (1.15.0)\n",
            "Requirement already satisfied: threadpoolctl>=2.0.0 in /usr/local/lib/python3.7/dist-packages (from scikit-learn>=0.20.0->category_encoders) (3.1.0)\n",
            "Requirement already satisfied: joblib>=0.11 in /usr/local/lib/python3.7/dist-packages (from scikit-learn>=0.20.0->category_encoders) (1.2.0)\n",
            "Installing collected packages: category-encoders\n",
            "Successfully installed category-encoders-2.5.1.post0\n"
          ]
        }
      ]
    },
    {
      "cell_type": "code",
      "source": [
        "# encoding -> 수치화 시킴\n",
        "from category_encoders import OrdinalEncoder\n",
        "od = OrdinalEncoder()\n",
        "X_train_od = od.fit_transform(X_train)\n",
        "X_val_od = od.transform(X_val)\n",
        "X_test_od = od.transform(X_test)\n",
        "\n",
        "# 문자형 데이터가 없는 것을 확인할 수 있습니다.\n",
        "(X_train_od.dtypes == 'object').sum()\n",
        "\n",
        "od.category_mapping #범주형 특성이 어떻게 변환이 되었는지는 .category_mapping 메소드를 사용"
      ],
      "metadata": {
        "colab": {
          "base_uri": "https://localhost:8080/"
        },
        "id": "ZELT0o19HBvH",
        "outputId": "8825a232-d206-402b-d6a1-768ed31916ce"
      },
      "execution_count": 35,
      "outputs": [
        {
          "output_type": "execute_result",
          "data": {
            "text/plain": [
              "[{'col': '성별코드', 'mapping': M      1\n",
              "  F      2\n",
              "  NaN   -2\n",
              "  dtype: int64, 'data_type': dtype('O')},\n",
              " {'col': '보험회사명', 'mapping': 라이나생명보험           1\n",
              "  AIA생명보험           2\n",
              "  새마을금고중앙회          3\n",
              "  우정사업본부            4\n",
              "  삼성화재해상보험          5\n",
              "  DB손해보험            6\n",
              "  삼성생명보험            7\n",
              "  에이스손해보험           8\n",
              "  KB손해보험            9\n",
              "  동양생명보험           10\n",
              "  메리츠화재보험          11\n",
              "  NH농협생명보험         12\n",
              "  흥국화재해상보험         13\n",
              "  흥국생명보험           14\n",
              "  신한라이프생명보험        15\n",
              "  MG손해보험           16\n",
              "  메트라이프생명보험        17\n",
              "  현대해상화재보험         18\n",
              "  교보생명보험           19\n",
              "  처브라이프생명보험        20\n",
              "  한화손해보험           21\n",
              "  교보라이프플래닛생명보험     22\n",
              "  한화생명보험           23\n",
              "  NH농협손해보험         24\n",
              "  롯데손해보험           25\n",
              "  KDB생명보험          26\n",
              "  DB생명보험           27\n",
              "  AXA손해보험          28\n",
              "  미래에셋생명보험         29\n",
              "  AIG손해보험          30\n",
              "  DGB생명보험          31\n",
              "  ABL생명보험          32\n",
              "  푸본현대생명보험         33\n",
              "  푸르덴셜생명보험         34\n",
              "  KB생명보험           35\n",
              "  하나손해보험           36\n",
              "  수산업협동조합중앙회       37\n",
              "  신용협동조합중앙회        38\n",
              "  교직원공제회보험         39\n",
              "  하나생명보험           40\n",
              "  BNP파리바카디프생명보험    41\n",
              "  NaN              -2\n",
              "  dtype: int64, 'data_type': dtype('O')},\n",
              " {'col': '보험상품명', 'mapping': 무배당집중보장암보험(갱신형)                      1\n",
              "  무배당　뉴　원스톱암보험　３형                      2\n",
              "  無좋은이웃해피플랜Ⅲ                           3\n",
              "  무배당 우체국건강클리닉보험(갱신형)                  4\n",
              "  무배당 삼성화재 자녀보험 엄마사랑(1004.4)           5\n",
              "                                    ... \n",
              "  무)알리안츠계속받는암보험(갱신형)1701            4348\n",
              "  무)파워변액유니버셜종신보험 80세납               4349\n",
              "  무배당 스마트 학생보험(1507)AM              4350\n",
              "  무배당하이라이프하이퍼펙트종합보험(Hi1004)어린이플랜    4351\n",
              "  NaN                                 -2\n",
              "  Length: 4352, dtype: int64, 'data_type': dtype('O')},\n",
              " {'col': '담보', 'mapping': 경계성종양진단비    1\n",
              "  기타피부암진단비    2\n",
              "  갑상선암진단비     3\n",
              "  제자리암진단비     4\n",
              "  방광암진단비      5\n",
              "  일반암진단비      6\n",
              "  유방암진단비      7\n",
              "  자궁암진단비      8\n",
              "  전립선암진단비     9\n",
              "  NaN        -2\n",
              "  dtype: int64, 'data_type': dtype('O')}]"
            ]
          },
          "metadata": {},
          "execution_count": 35
        }
      ]
    },
    {
      "cell_type": "code",
      "source": [
        "# 기준모델 - 최빈값\n",
        "y_base = [y_train.mode()]*len(y_train)\n",
        "\n",
        "# 기준모델 정확도\n",
        "from sklearn.metrics import accuracy_score\n",
        "print(\"training accuracy: \", accuracy_score(y_train, y_base).round(2))"
      ],
      "metadata": {
        "colab": {
          "base_uri": "https://localhost:8080/"
        },
        "id": "Jn3ifzZ8ONlF",
        "outputId": "4923f46d-d4cf-4f0f-d9d6-6bdd8d6d5fce"
      },
      "execution_count": 36,
      "outputs": [
        {
          "output_type": "stream",
          "name": "stdout",
          "text": [
            "training accuracy:  0.21\n"
          ]
        }
      ]
    },
    {
      "cell_type": "code",
      "source": [
        "from sklearn.ensemble import RandomForestClassifier\n",
        "from sklearn.metrics import f1_score\n",
        "\n",
        "rf = RandomForestClassifier(\n",
        "    random_state=42, criterion='entropy', oob_score=True, n_jobs=-1, max_depth=3)\n",
        "rf.fit(X_train_od, y_train)\n",
        "y_pred_rf = rf.predict(X_val_od)\n",
        "\n",
        "print(\"훈련 정확도\", rf.score(X_train_od, y_train))\n",
        "print(\"검증 정확도\", rf.score(X_val_od, y_val))\n",
        "#print(\"f1 score: \", f1_score(y_val, y_pred_rf).round(3))"
      ],
      "metadata": {
        "colab": {
          "base_uri": "https://localhost:8080/"
        },
        "id": "NYYdc79RVYzZ",
        "outputId": "a360190c-4474-4df4-ae58-69987f69bb18"
      },
      "execution_count": 37,
      "outputs": [
        {
          "output_type": "stream",
          "name": "stdout",
          "text": [
            "훈련 정확도 0.2612666382454645\n",
            "검증 정확도 0.25980522187275\n"
          ]
        }
      ]
    },
    {
      "cell_type": "code",
      "source": [
        "from sklearn.ensemble import RandomForestClassifier\n",
        "from sklearn.metrics import f1_score\n",
        "\n",
        "rf = RandomForestClassifier(\n",
        "    random_state=42, criterion='entropy', oob_score=True, n_jobs=-1, max_depth=6, n_estimators = 200)\n",
        "rf.fit(X_train_od, y_train)\n",
        "y_pred_rf = rf.predict(X_val_od)\n",
        "\n",
        "print(\"훈련 정확도\", rf.score(X_train_od, y_train))\n",
        "print(\"검증 정확도\", rf.score(X_val_od, y_val))\n",
        "#print(\"f1 score: \", f1_score(y_val, y_pred_rf).round(3))"
      ],
      "metadata": {
        "colab": {
          "base_uri": "https://localhost:8080/"
        },
        "id": "yEGxwYO7Vnex",
        "outputId": "6ec0a610-37e7-4c06-d677-1019effb385d"
      },
      "execution_count": 39,
      "outputs": [
        {
          "output_type": "stream",
          "name": "stdout",
          "text": [
            "훈련 정확도 0.30020368528255414\n",
            "검증 정확도 0.2995187388684679\n"
          ]
        }
      ]
    },
    {
      "cell_type": "code",
      "source": [
        "from sklearn.ensemble import RandomForestClassifier\n",
        "from sklearn.metrics import f1_score\n",
        "\n",
        "rf = RandomForestClassifier(\n",
        "    random_state=42, criterion='entropy', oob_score=True, n_jobs=-1, max_depth=8, n_estimators = 200)\n",
        "rf.fit(X_train_od, y_train)\n",
        "y_pred_rf = rf.predict(X_val_od)\n",
        "\n",
        "print(\"훈련 정확도\", rf.score(X_train_od, y_train))\n",
        "print(\"검증 정확도\", rf.score(X_val_od, y_val))\n",
        "#print(\"f1 score: \", f1_score(y_val, y_pred_rf).round(3))"
      ],
      "metadata": {
        "colab": {
          "base_uri": "https://localhost:8080/"
        },
        "id": "BZgfOKY9XKKj",
        "outputId": "1d9f4790-8f7a-4e66-a31b-9c3c58025a62"
      },
      "execution_count": 40,
      "outputs": [
        {
          "output_type": "stream",
          "name": "stdout",
          "text": [
            "훈련 정확도 0.34593339964947184\n",
            "검증 정확도 0.3413543521922013\n"
          ]
        }
      ]
    },
    {
      "cell_type": "code",
      "source": [
        "from sklearn.ensemble import RandomForestClassifier\n",
        "from sklearn.metrics import f1_score\n",
        "\n",
        "rf = RandomForestClassifier(\n",
        "    random_state=42, criterion='entropy', oob_score=True, n_jobs=-1, max_depth=10, n_estimators = 400, min_samples_split=8, min_samples_leaf=8)\n",
        "rf.fit(X_train_od, y_train)\n",
        "y_pred_rf = rf.predict(X_val_od)\n",
        "\n",
        "print(\"훈련 정확도\", rf.score(X_train_od, y_train))\n",
        "print(\"검증 정확도\", rf.score(X_val_od, y_val))\n",
        "#print(\"f1 score: \", f1_score(y_val, y_pred_rf).round(3))"
      ],
      "metadata": {
        "colab": {
          "base_uri": "https://localhost:8080/"
        },
        "id": "OgtzNVH5jisx",
        "outputId": "56f9d6b4-0d36-4ba2-9d54-685b5789c219"
      },
      "execution_count": 38,
      "outputs": [
        {
          "output_type": "stream",
          "name": "stdout",
          "text": [
            "훈련 정확도 0.4245843399175785\n",
            "검증 정확도 0.405547766114669\n"
          ]
        }
      ]
    },
    {
      "cell_type": "code",
      "source": [
        "from xgboost import XGBClassifier\n",
        "xgb = XGBClassifier(\n",
        "        booster='gbtree', # dart보다 성능 좋았음\n",
        "        objective='binary:logistic',\n",
        "        eval_metric=\"error\",  # error = 1 - accuracy 지표를 사용해 평가합니다.\n",
        "        n_estimators=500,\n",
        "        random_state=42,\n",
        "        n_jobs=2,\n",
        "        max_depth=6,\n",
        "        learning_rate=0.1,\n",
        "        # scale_pos_weight = 8062/25661, # 타겟이 불균형, 설정하니 정확도 떨어짐\n",
        "        colsample_bytree=0.3, # 컬럼 중 일부 샘플링해서 학습, 작을수록 과적합 감소\n",
        "        subsample=0.3, # 데이터 중 일부 샘플링해서 학습, 낮을수록 과적합 감소\n",
        "        min_child_weight=16,# 관측치에 대한 가중치 합의 최소\n",
        "        reg_lambda=2, # 클수록 과적합 감소\n",
        "        alpha=1 # 클수록 과적합 감소\n",
        "        )\n",
        "xgb.fit(X_train_od, y_train)\n",
        "y_pred_rf = xgb.predict(X_val_od)\n",
        "\n",
        "print(\"훈련 정확도\", xgb.score(X_train_od, y_train))\n",
        "print(\"검증 정확도\", xgb.score(X_val_od, y_val))\n"
      ],
      "metadata": {
        "colab": {
          "base_uri": "https://localhost:8080/",
          "height": 390
        },
        "id": "9ClLnk4MtLxb",
        "outputId": "f1cba415-060b-461e-fba6-c2b46b8e401e"
      },
      "execution_count": 42,
      "outputs": [
        {
          "output_type": "error",
          "ename": "KeyboardInterrupt",
          "evalue": "ignored",
          "traceback": [
            "\u001b[0;31m---------------------------------------------------------------------------\u001b[0m",
            "\u001b[0;31mKeyboardInterrupt\u001b[0m                         Traceback (most recent call last)",
            "\u001b[0;32m<ipython-input-42-d2853a1ccab8>\u001b[0m in \u001b[0;36m<module>\u001b[0;34m\u001b[0m\n\u001b[1;32m     16\u001b[0m         \u001b[0malpha\u001b[0m\u001b[0;34m=\u001b[0m\u001b[0;36m1\u001b[0m \u001b[0;31m# 클수록 과적합 감소\u001b[0m\u001b[0;34m\u001b[0m\u001b[0;34m\u001b[0m\u001b[0m\n\u001b[1;32m     17\u001b[0m         )\n\u001b[0;32m---> 18\u001b[0;31m \u001b[0mxgb\u001b[0m\u001b[0;34m.\u001b[0m\u001b[0mfit\u001b[0m\u001b[0;34m(\u001b[0m\u001b[0mX_train_od\u001b[0m\u001b[0;34m,\u001b[0m \u001b[0my_train\u001b[0m\u001b[0;34m)\u001b[0m\u001b[0;34m\u001b[0m\u001b[0;34m\u001b[0m\u001b[0m\n\u001b[0m\u001b[1;32m     19\u001b[0m \u001b[0my_pred_rf\u001b[0m \u001b[0;34m=\u001b[0m \u001b[0mxgb\u001b[0m\u001b[0;34m.\u001b[0m\u001b[0mpredict\u001b[0m\u001b[0;34m(\u001b[0m\u001b[0mX_val_od\u001b[0m\u001b[0;34m)\u001b[0m\u001b[0;34m\u001b[0m\u001b[0;34m\u001b[0m\u001b[0m\n\u001b[1;32m     20\u001b[0m \u001b[0;34m\u001b[0m\u001b[0m\n",
            "\u001b[0;32m/usr/local/lib/python3.7/dist-packages/xgboost/sklearn.py\u001b[0m in \u001b[0;36mfit\u001b[0;34m(self, X, y, sample_weight, eval_set, eval_metric, early_stopping_rounds, verbose, xgb_model, sample_weight_eval_set, callbacks)\u001b[0m\n\u001b[1;32m    730\u001b[0m                               \u001b[0mevals_result\u001b[0m\u001b[0;34m=\u001b[0m\u001b[0mevals_result\u001b[0m\u001b[0;34m,\u001b[0m \u001b[0mobj\u001b[0m\u001b[0;34m=\u001b[0m\u001b[0mobj\u001b[0m\u001b[0;34m,\u001b[0m \u001b[0mfeval\u001b[0m\u001b[0;34m=\u001b[0m\u001b[0mfeval\u001b[0m\u001b[0;34m,\u001b[0m\u001b[0;34m\u001b[0m\u001b[0;34m\u001b[0m\u001b[0m\n\u001b[1;32m    731\u001b[0m                               \u001b[0mverbose_eval\u001b[0m\u001b[0;34m=\u001b[0m\u001b[0mverbose\u001b[0m\u001b[0;34m,\u001b[0m \u001b[0mxgb_model\u001b[0m\u001b[0;34m=\u001b[0m\u001b[0mxgb_model\u001b[0m\u001b[0;34m,\u001b[0m\u001b[0;34m\u001b[0m\u001b[0;34m\u001b[0m\u001b[0m\n\u001b[0;32m--> 732\u001b[0;31m                               callbacks=callbacks)\n\u001b[0m\u001b[1;32m    733\u001b[0m \u001b[0;34m\u001b[0m\u001b[0m\n\u001b[1;32m    734\u001b[0m         \u001b[0mself\u001b[0m\u001b[0;34m.\u001b[0m\u001b[0mobjective\u001b[0m \u001b[0;34m=\u001b[0m \u001b[0mxgb_options\u001b[0m\u001b[0;34m[\u001b[0m\u001b[0;34m\"objective\"\u001b[0m\u001b[0;34m]\u001b[0m\u001b[0;34m\u001b[0m\u001b[0;34m\u001b[0m\u001b[0m\n",
            "\u001b[0;32m/usr/local/lib/python3.7/dist-packages/xgboost/training.py\u001b[0m in \u001b[0;36mtrain\u001b[0;34m(params, dtrain, num_boost_round, evals, obj, feval, maximize, early_stopping_rounds, evals_result, verbose_eval, xgb_model, callbacks, learning_rates)\u001b[0m\n\u001b[1;32m    214\u001b[0m                            \u001b[0mevals\u001b[0m\u001b[0;34m=\u001b[0m\u001b[0mevals\u001b[0m\u001b[0;34m,\u001b[0m\u001b[0;34m\u001b[0m\u001b[0;34m\u001b[0m\u001b[0m\n\u001b[1;32m    215\u001b[0m                            \u001b[0mobj\u001b[0m\u001b[0;34m=\u001b[0m\u001b[0mobj\u001b[0m\u001b[0;34m,\u001b[0m \u001b[0mfeval\u001b[0m\u001b[0;34m=\u001b[0m\u001b[0mfeval\u001b[0m\u001b[0;34m,\u001b[0m\u001b[0;34m\u001b[0m\u001b[0;34m\u001b[0m\u001b[0m\n\u001b[0;32m--> 216\u001b[0;31m                            xgb_model=xgb_model, callbacks=callbacks)\n\u001b[0m\u001b[1;32m    217\u001b[0m \u001b[0;34m\u001b[0m\u001b[0m\n\u001b[1;32m    218\u001b[0m \u001b[0;34m\u001b[0m\u001b[0m\n",
            "\u001b[0;32m/usr/local/lib/python3.7/dist-packages/xgboost/training.py\u001b[0m in \u001b[0;36m_train_internal\u001b[0;34m(params, dtrain, num_boost_round, evals, obj, feval, xgb_model, callbacks)\u001b[0m\n\u001b[1;32m     72\u001b[0m         \u001b[0;31m# Skip the first update if it is a recovery step.\u001b[0m\u001b[0;34m\u001b[0m\u001b[0;34m\u001b[0m\u001b[0;34m\u001b[0m\u001b[0m\n\u001b[1;32m     73\u001b[0m         \u001b[0;32mif\u001b[0m \u001b[0mversion\u001b[0m \u001b[0;34m%\u001b[0m \u001b[0;36m2\u001b[0m \u001b[0;34m==\u001b[0m \u001b[0;36m0\u001b[0m\u001b[0;34m:\u001b[0m\u001b[0;34m\u001b[0m\u001b[0;34m\u001b[0m\u001b[0m\n\u001b[0;32m---> 74\u001b[0;31m             \u001b[0mbst\u001b[0m\u001b[0;34m.\u001b[0m\u001b[0mupdate\u001b[0m\u001b[0;34m(\u001b[0m\u001b[0mdtrain\u001b[0m\u001b[0;34m,\u001b[0m \u001b[0mi\u001b[0m\u001b[0;34m,\u001b[0m \u001b[0mobj\u001b[0m\u001b[0;34m)\u001b[0m\u001b[0;34m\u001b[0m\u001b[0;34m\u001b[0m\u001b[0m\n\u001b[0m\u001b[1;32m     75\u001b[0m             \u001b[0mbst\u001b[0m\u001b[0;34m.\u001b[0m\u001b[0msave_rabit_checkpoint\u001b[0m\u001b[0;34m(\u001b[0m\u001b[0;34m)\u001b[0m\u001b[0;34m\u001b[0m\u001b[0;34m\u001b[0m\u001b[0m\n\u001b[1;32m     76\u001b[0m             \u001b[0mversion\u001b[0m \u001b[0;34m+=\u001b[0m \u001b[0;36m1\u001b[0m\u001b[0;34m\u001b[0m\u001b[0;34m\u001b[0m\u001b[0m\n",
            "\u001b[0;32m/usr/local/lib/python3.7/dist-packages/xgboost/core.py\u001b[0m in \u001b[0;36mupdate\u001b[0;34m(self, dtrain, iteration, fobj)\u001b[0m\n\u001b[1;32m   1107\u001b[0m         \u001b[0;32mif\u001b[0m \u001b[0mfobj\u001b[0m \u001b[0;32mis\u001b[0m \u001b[0;32mNone\u001b[0m\u001b[0;34m:\u001b[0m\u001b[0;34m\u001b[0m\u001b[0;34m\u001b[0m\u001b[0m\n\u001b[1;32m   1108\u001b[0m             _check_call(_LIB.XGBoosterUpdateOneIter(self.handle, ctypes.c_int(iteration),\n\u001b[0;32m-> 1109\u001b[0;31m                                                     dtrain.handle))\n\u001b[0m\u001b[1;32m   1110\u001b[0m         \u001b[0;32melse\u001b[0m\u001b[0;34m:\u001b[0m\u001b[0;34m\u001b[0m\u001b[0;34m\u001b[0m\u001b[0m\n\u001b[1;32m   1111\u001b[0m             \u001b[0mpred\u001b[0m \u001b[0;34m=\u001b[0m \u001b[0mself\u001b[0m\u001b[0;34m.\u001b[0m\u001b[0mpredict\u001b[0m\u001b[0;34m(\u001b[0m\u001b[0mdtrain\u001b[0m\u001b[0;34m)\u001b[0m\u001b[0;34m\u001b[0m\u001b[0;34m\u001b[0m\u001b[0m\n",
            "\u001b[0;31mKeyboardInterrupt\u001b[0m: "
          ]
        }
      ]
    },
    {
      "cell_type": "code",
      "source": [
        "## X 특성들의 테이블과, y 타겟 벡터를 만듭니다\n",
        "feature = ['나이']\n",
        "target = ['가입금액']\n",
        "X_train = df[feature]\n",
        "y_train = df[target]\n",
        "\n",
        "## 모델을 학습(fit)합니다\n",
        "rf.fit(X_train, y_train)\n",
        "\n",
        "## 새로운 데이터 한 샘플을 선택해 학습한 모델을 통해 예측해 봅니다\n",
        "X_test = [[29]]\n",
        "y_pred = rf.predict(X_test)\n",
        "print(f'{X_test[0][0]} 의 예상 가입금액의 평균은 {int(y_pred)}원 입니다.')"
      ],
      "metadata": {
        "colab": {
          "base_uri": "https://localhost:8080/"
        },
        "id": "J331PwM_WLJw",
        "outputId": "f5eb3cef-d2b7-4911-b3ff-685fed7fb28c"
      },
      "execution_count": 44,
      "outputs": [
        {
          "output_type": "stream",
          "name": "stdout",
          "text": [
            "29 의 예상 가입금액의 평균은 10000000원 입니다.\n"
          ]
        }
      ]
    }
  ]
}